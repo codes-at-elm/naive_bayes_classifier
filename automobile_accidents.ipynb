{
 "cells": [
  {
   "cell_type": "markdown",
   "id": "310b309c-90a6-480e-b4e0-95282bc83cfa",
   "metadata": {},
   "source": [
    "# Naive Bayes Classifier - Automobile Accidents"
   ]
  },
  {
   "cell_type": "markdown",
   "id": "2b74b9e0-f3cb-4378-a492-5861067c18f4",
   "metadata": {},
   "source": [
    "This program is a solution to the problem 8.2 of chapter 8 of following book. \n",
    "\n",
    "Data Mining for Business Analytics: Concepts, Techniques, and Applications in Python, First Edition.\n",
    "\n",
    "Galit Shmueli, Peter C. Bruce, Peter Gedeck, and Nitin R. Patel\n",
    "\n",
    "© 2020 John Wiley & Sons, Inc. Published 2020 by John Wiley & Sons, Inc."
   ]
  },
  {
   "cell_type": "markdown",
   "id": "0201817e-e62f-4a60-98dc-66e02c06c103",
   "metadata": {},
   "source": [
    "##  Chapter 8, Problem 8.2"
   ]
  },
  {
   "cell_type": "markdown",
   "id": "5c184abd-3c9d-4a8f-acd5-b0e177ebfa07",
   "metadata": {},
   "source": [
    "8.2 Automobile Accidents. The file accidentsFull.csv contains information on 42,183 actual automobile accidents in 2001 in the United States that involved one of three levels of injury: NO INJURY, INJURY, or FATALITY. For each accident, additional information is recorded, such as day of week, weather conditions, and road type. A firm might be interested in developing a system for quickly classifying the severity of an accident based on initial reports and associated data in the system (some of which rely on GPS-assisted reporting).\n",
    "\n",
    "Our goal here is to predict whether an accident just reported will involve an injury (MAX_SEV_IR = 1 or 2) or will not (MAX_SEV_IR = 0). For this purpose, create a dummy variable called INJURY that takes the value “yes” if MAX_SEV_IR = 1 or 2, and otherwise “no.” \n",
    "\n",
    "a. Using the information in this dataset, if an accident has just been reported and no further information is available, what should the prediction be? (INJURY = Yes or No?) Why?\n",
    "\n",
    "b. Select the first 12 records in the dataset and look only at the response (INJURY) and the two predictors WEATHER_R and TRAF_CON_R.\n",
    "\n",
    "    i. Create a pivot table that examines INJURY as a function of the two predictors for these 12 records. Use all three variables in the pivot table as rows/columns.\n",
    "    ii. Compute the exact Bayes conditional probabilities of an injury (INJURY = Yes) given the six possible combinations of the predictors.\n",
    "    iii. Classify the 12 accidents using these probabilities and a cutoff of 0.5.\n",
    "    iv. Compute manually the naive Bayes conditional probability of an injury given WEATHER_R = 1 and TRAF_CON_R = 1.\n",
    "    v. Run a naive Bayes classifier on the 12 records and 2 predictors using scikitlearn. Check the model output to obtain probabilities and classifications for all 12 records. Compare this to the exact Bayes classification. Are the resulting classifications equivalent? Is the ranking (=ordering) of observations equivalent?\n",
    "    \n",
    "c. Let us now return to the entire dataset. Partition the data into training (60%) and validation (40%).\n",
    "\n",
    "    i. Assuming that no information or initial reports about the accident itself are available at the time of prediction (only location characteristics, weather conditions, etc.), which predictors can we include in the analysis? (Use the data descriptions page from www.dataminingbook.com.)\n",
    "    ii. Run a naive Bayes classifier on the complete training set with the relevant predictors (and INJURY as the response). Note that all predictors are categorical. Show the confusion matrix.\n",
    "    iii. What is the overall error for the validation set?\n",
    "    iv. What is the percent improvement relative to the naive rule (using the validation set)?\n",
    "    v. Examine the conditional probabilities in the pivot tables. Why do we get a probability of zero for P(INJURY = No j SPD_LIM = 5)?"
   ]
  },
  {
   "cell_type": "code",
   "execution_count": null,
   "id": "e46bd927-74c7-49e3-bd3b-44d7ac9e157c",
   "metadata": {},
   "outputs": [],
   "source": []
  }
 ],
 "metadata": {
  "kernelspec": {
   "display_name": "Python 3 (ipykernel)",
   "language": "python",
   "name": "python3"
  },
  "language_info": {
   "codemirror_mode": {
    "name": "ipython",
    "version": 3
   },
   "file_extension": ".py",
   "mimetype": "text/x-python",
   "name": "python",
   "nbconvert_exporter": "python",
   "pygments_lexer": "ipython3",
   "version": "3.10.9"
  }
 },
 "nbformat": 4,
 "nbformat_minor": 5
}
