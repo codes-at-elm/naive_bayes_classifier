{
 "cells": [
  {
   "cell_type": "markdown",
   "id": "310b309c-90a6-480e-b4e0-95282bc83cfa",
   "metadata": {},
   "source": [
    "# Naive Bayes Classifier - Automobile Accidents"
   ]
  },
  {
   "cell_type": "markdown",
   "id": "2b74b9e0-f3cb-4378-a492-5861067c18f4",
   "metadata": {},
   "source": [
    "This program is a solution to the problem 8.2 of chapter 8 of following book. \n",
    "\n",
    "Data Mining for Business Analytics: Concepts, Techniques, and Applications in Python, First Edition.\n",
    "\n",
    "Galit Shmueli, Peter C. Bruce, Peter Gedeck, and Nitin R. Patel\n",
    "\n",
    "© 2020 John Wiley & Sons, Inc. Published 2020 by John Wiley & Sons, Inc."
   ]
  },
  {
   "cell_type": "markdown",
   "id": "0201817e-e62f-4a60-98dc-66e02c06c103",
   "metadata": {},
   "source": [
    "##  Chapter 8, Problem 8.2"
   ]
  },
  {
   "cell_type": "markdown",
   "id": "5c184abd-3c9d-4a8f-acd5-b0e177ebfa07",
   "metadata": {},
   "source": [
    "8.2 Automobile Accidents. The file accidentsFull.csv contains information on 42,183 actual automobile accidents in 2001 in the United States that involved one of three levels of injury: NO INJURY, INJURY, or FATALITY. For each accident, additional information is recorded, such as day of week, weather conditions, and road type. A firm might be interested in developing a system for quickly classifying the severity of an accident based on initial reports and associated data in the system (some of which rely on GPS-assisted reporting).\n",
    "\n",
    "Our goal here is to predict whether an accident just reported will involve an injury (MAX_SEV_IR = 1 or 2) or will not (MAX_SEV_IR = 0). For this purpose, create a dummy variable called INJURY that takes the value “yes” if MAX_SEV_IR = 1 or 2, and otherwise “no.” \n",
    "\n",
    "a. Using the information in this dataset, if an accident has just been reported and no further information is available, what should the prediction be? (INJURY = Yes or No?) Why?\n",
    "\n",
    "b. Select the first 12 records in the dataset and look only at the response (INJURY) and the two predictors WEATHER_R and TRAF_CON_R.\n",
    "\n",
    "    i. Create a pivot table that examines INJURY as a function of the two predictors for these 12 records. Use all three variables in the pivot table as rows/columns.\n",
    "    ii. Compute the exact Bayes conditional probabilities of an injury (INJURY = Yes) given the six possible combinations of the predictors.\n",
    "    iii. Classify the 12 accidents using these probabilities and a cutoff of 0.5.\n",
    "    iv. Compute manually the naive Bayes conditional probability of an injury given WEATHER_R = 1 and TRAF_CON_R = 1.\n",
    "    v. Run a naive Bayes classifier on the 12 records and 2 predictors using scikitlearn. Check the model output to obtain probabilities and classifications for all 12 records. Compare this to the exact Bayes classification. Are the resulting classifications equivalent? Is the ranking (=ordering) of observations equivalent?\n",
    "    \n",
    "c. Let us now return to the entire dataset. Partition the data into training (60%) and validation (40%).\n",
    "\n",
    "    i. Assuming that no information or initial reports about the accident itself are available at the time of prediction (only location characteristics, weather conditions, etc.), which predictors can we include in the analysis? (Use the data descriptions page from www.dataminingbook.com.)\n",
    "    ii. Run a naive Bayes classifier on the complete training set with the relevant predictors (and INJURY as the response). Note that all predictors are categorical. Show the confusion matrix.\n",
    "    iii. What is the overall error for the validation set?\n",
    "    iv. What is the percent improvement relative to the naive rule (using the validation set)?\n",
    "    v. Examine the conditional probabilities in the pivot tables. Why do we get a probability of zero for P(INJURY = No | SPD_LIM = 5)?"
   ]
  },
  {
   "cell_type": "markdown",
   "id": "76a8cc32-e83c-40e0-8f42-e1fd363ef92a",
   "metadata": {},
   "source": [
    "## Importing Libraries"
   ]
  },
  {
   "cell_type": "code",
   "execution_count": 238,
   "id": "73769a99-195b-4b06-8df2-59de51b3171c",
   "metadata": {},
   "outputs": [],
   "source": [
    "import pandas as pd\n",
    "import numpy as np\n",
    "import sklearn\n",
    "from sklearn.naive_bayes import MultinomialNB\n",
    "from sklearn.model_selection import train_test_split\n",
    "from dmba import classificationSummary"
   ]
  },
  {
   "cell_type": "markdown",
   "id": "f8ea9ffb-90f1-4798-b3b2-7a7fd14f636a",
   "metadata": {},
   "source": [
    "Printing versions of libraries"
   ]
  },
  {
   "cell_type": "code",
   "execution_count": 239,
   "id": "0d0de7df-5b0c-41be-881a-0cb9d9ebee8c",
   "metadata": {},
   "outputs": [
    {
     "name": "stdout",
     "output_type": "stream",
     "text": [
      "pandas version: 1.5.3\n",
      "numpy version: 1.23.5\n",
      "sklearn version: 1.2.1\n"
     ]
    }
   ],
   "source": [
    "print('pandas version: {}'.format(pd.__version__))\n",
    "print('numpy version: {}'.format(np.__version__))\n",
    "print('sklearn version: {}'.format(sklearn.__version__))"
   ]
  },
  {
   "cell_type": "markdown",
   "id": "8a63f359-5ea1-4852-91d3-3e0a663a2d32",
   "metadata": {},
   "source": [
    "## Loading Dataset"
   ]
  },
  {
   "cell_type": "code",
   "execution_count": 240,
   "id": "db2e9b3d-99be-4c1d-a6f2-523077b4b2c0",
   "metadata": {},
   "outputs": [
    {
     "name": "stdout",
     "output_type": "stream",
     "text": [
      "(42183, 24)\n"
     ]
    },
    {
     "data": {
      "text/html": [
       "<div>\n",
       "<style scoped>\n",
       "    .dataframe tbody tr th:only-of-type {\n",
       "        vertical-align: middle;\n",
       "    }\n",
       "\n",
       "    .dataframe tbody tr th {\n",
       "        vertical-align: top;\n",
       "    }\n",
       "\n",
       "    .dataframe thead th {\n",
       "        text-align: right;\n",
       "    }\n",
       "</style>\n",
       "<table border=\"1\" class=\"dataframe\">\n",
       "  <thead>\n",
       "    <tr style=\"text-align: right;\">\n",
       "      <th></th>\n",
       "      <th>HOUR_I_R</th>\n",
       "      <th>ALCHL_I</th>\n",
       "      <th>ALIGN_I</th>\n",
       "      <th>STRATUM_R</th>\n",
       "      <th>WRK_ZONE</th>\n",
       "      <th>WKDY_I_R</th>\n",
       "      <th>INT_HWY</th>\n",
       "      <th>LGTCON_I_R</th>\n",
       "      <th>MANCOL_I_R</th>\n",
       "      <th>PED_ACC_R</th>\n",
       "      <th>...</th>\n",
       "      <th>SUR_COND</th>\n",
       "      <th>TRAF_CON_R</th>\n",
       "      <th>TRAF_WAY</th>\n",
       "      <th>VEH_INVL</th>\n",
       "      <th>WEATHER_R</th>\n",
       "      <th>INJURY_CRASH</th>\n",
       "      <th>NO_INJ_I</th>\n",
       "      <th>PRPTYDMG_CRASH</th>\n",
       "      <th>FATALITIES</th>\n",
       "      <th>MAX_SEV_IR</th>\n",
       "    </tr>\n",
       "  </thead>\n",
       "  <tbody>\n",
       "    <tr>\n",
       "      <th>0</th>\n",
       "      <td>0</td>\n",
       "      <td>2</td>\n",
       "      <td>2</td>\n",
       "      <td>1</td>\n",
       "      <td>0</td>\n",
       "      <td>1</td>\n",
       "      <td>0</td>\n",
       "      <td>3</td>\n",
       "      <td>0</td>\n",
       "      <td>0</td>\n",
       "      <td>...</td>\n",
       "      <td>4</td>\n",
       "      <td>0</td>\n",
       "      <td>3</td>\n",
       "      <td>1</td>\n",
       "      <td>1</td>\n",
       "      <td>1</td>\n",
       "      <td>1</td>\n",
       "      <td>0</td>\n",
       "      <td>0</td>\n",
       "      <td>1</td>\n",
       "    </tr>\n",
       "    <tr>\n",
       "      <th>1</th>\n",
       "      <td>1</td>\n",
       "      <td>2</td>\n",
       "      <td>1</td>\n",
       "      <td>0</td>\n",
       "      <td>0</td>\n",
       "      <td>1</td>\n",
       "      <td>1</td>\n",
       "      <td>3</td>\n",
       "      <td>2</td>\n",
       "      <td>0</td>\n",
       "      <td>...</td>\n",
       "      <td>4</td>\n",
       "      <td>0</td>\n",
       "      <td>3</td>\n",
       "      <td>2</td>\n",
       "      <td>2</td>\n",
       "      <td>0</td>\n",
       "      <td>0</td>\n",
       "      <td>1</td>\n",
       "      <td>0</td>\n",
       "      <td>0</td>\n",
       "    </tr>\n",
       "    <tr>\n",
       "      <th>2</th>\n",
       "      <td>1</td>\n",
       "      <td>2</td>\n",
       "      <td>1</td>\n",
       "      <td>0</td>\n",
       "      <td>0</td>\n",
       "      <td>1</td>\n",
       "      <td>0</td>\n",
       "      <td>3</td>\n",
       "      <td>2</td>\n",
       "      <td>0</td>\n",
       "      <td>...</td>\n",
       "      <td>4</td>\n",
       "      <td>1</td>\n",
       "      <td>2</td>\n",
       "      <td>2</td>\n",
       "      <td>2</td>\n",
       "      <td>0</td>\n",
       "      <td>0</td>\n",
       "      <td>1</td>\n",
       "      <td>0</td>\n",
       "      <td>0</td>\n",
       "    </tr>\n",
       "    <tr>\n",
       "      <th>3</th>\n",
       "      <td>1</td>\n",
       "      <td>2</td>\n",
       "      <td>1</td>\n",
       "      <td>1</td>\n",
       "      <td>0</td>\n",
       "      <td>0</td>\n",
       "      <td>0</td>\n",
       "      <td>3</td>\n",
       "      <td>2</td>\n",
       "      <td>0</td>\n",
       "      <td>...</td>\n",
       "      <td>4</td>\n",
       "      <td>1</td>\n",
       "      <td>2</td>\n",
       "      <td>2</td>\n",
       "      <td>1</td>\n",
       "      <td>0</td>\n",
       "      <td>0</td>\n",
       "      <td>1</td>\n",
       "      <td>0</td>\n",
       "      <td>0</td>\n",
       "    </tr>\n",
       "    <tr>\n",
       "      <th>4</th>\n",
       "      <td>1</td>\n",
       "      <td>1</td>\n",
       "      <td>1</td>\n",
       "      <td>0</td>\n",
       "      <td>0</td>\n",
       "      <td>1</td>\n",
       "      <td>0</td>\n",
       "      <td>3</td>\n",
       "      <td>2</td>\n",
       "      <td>0</td>\n",
       "      <td>...</td>\n",
       "      <td>4</td>\n",
       "      <td>0</td>\n",
       "      <td>2</td>\n",
       "      <td>3</td>\n",
       "      <td>1</td>\n",
       "      <td>0</td>\n",
       "      <td>0</td>\n",
       "      <td>1</td>\n",
       "      <td>0</td>\n",
       "      <td>0</td>\n",
       "    </tr>\n",
       "  </tbody>\n",
       "</table>\n",
       "<p>5 rows × 24 columns</p>\n",
       "</div>"
      ],
      "text/plain": [
       "   HOUR_I_R  ALCHL_I  ALIGN_I  STRATUM_R  WRK_ZONE  WKDY_I_R  INT_HWY  \\\n",
       "0         0        2        2          1         0         1        0   \n",
       "1         1        2        1          0         0         1        1   \n",
       "2         1        2        1          0         0         1        0   \n",
       "3         1        2        1          1         0         0        0   \n",
       "4         1        1        1          0         0         1        0   \n",
       "\n",
       "   LGTCON_I_R  MANCOL_I_R  PED_ACC_R  ...  SUR_COND  TRAF_CON_R  TRAF_WAY  \\\n",
       "0           3           0          0  ...         4           0         3   \n",
       "1           3           2          0  ...         4           0         3   \n",
       "2           3           2          0  ...         4           1         2   \n",
       "3           3           2          0  ...         4           1         2   \n",
       "4           3           2          0  ...         4           0         2   \n",
       "\n",
       "   VEH_INVL  WEATHER_R  INJURY_CRASH  NO_INJ_I  PRPTYDMG_CRASH  FATALITIES  \\\n",
       "0         1          1             1         1               0           0   \n",
       "1         2          2             0         0               1           0   \n",
       "2         2          2             0         0               1           0   \n",
       "3         2          1             0         0               1           0   \n",
       "4         3          1             0         0               1           0   \n",
       "\n",
       "   MAX_SEV_IR  \n",
       "0           1  \n",
       "1           0  \n",
       "2           0  \n",
       "3           0  \n",
       "4           0  \n",
       "\n",
       "[5 rows x 24 columns]"
      ]
     },
     "metadata": {},
     "output_type": "display_data"
    }
   ],
   "source": [
    "df = pd.read_csv('AccidentsFull.csv')\n",
    "print(df.shape)\n",
    "display(df.head())"
   ]
  },
  {
   "cell_type": "markdown",
   "id": "26355c7a-9944-45e4-938f-8efdd40a3c90",
   "metadata": {},
   "source": [
    "##### Creating a dummy variable called INJURY that takes the value “yes” if MAX_SEV_IR = 1 or 2, and otherwise “no.”"
   ]
  },
  {
   "cell_type": "code",
   "execution_count": 241,
   "id": "ad2446f3-f970-4de5-91b4-578fbd7e26bf",
   "metadata": {},
   "outputs": [
    {
     "data": {
      "text/html": [
       "<div>\n",
       "<style scoped>\n",
       "    .dataframe tbody tr th:only-of-type {\n",
       "        vertical-align: middle;\n",
       "    }\n",
       "\n",
       "    .dataframe tbody tr th {\n",
       "        vertical-align: top;\n",
       "    }\n",
       "\n",
       "    .dataframe thead th {\n",
       "        text-align: right;\n",
       "    }\n",
       "</style>\n",
       "<table border=\"1\" class=\"dataframe\">\n",
       "  <thead>\n",
       "    <tr style=\"text-align: right;\">\n",
       "      <th></th>\n",
       "      <th>HOUR_I_R</th>\n",
       "      <th>ALCHL_I</th>\n",
       "      <th>ALIGN_I</th>\n",
       "      <th>STRATUM_R</th>\n",
       "      <th>WRK_ZONE</th>\n",
       "      <th>WKDY_I_R</th>\n",
       "      <th>INT_HWY</th>\n",
       "      <th>LGTCON_I_R</th>\n",
       "      <th>MANCOL_I_R</th>\n",
       "      <th>PED_ACC_R</th>\n",
       "      <th>...</th>\n",
       "      <th>TRAF_CON_R</th>\n",
       "      <th>TRAF_WAY</th>\n",
       "      <th>VEH_INVL</th>\n",
       "      <th>WEATHER_R</th>\n",
       "      <th>INJURY_CRASH</th>\n",
       "      <th>NO_INJ_I</th>\n",
       "      <th>PRPTYDMG_CRASH</th>\n",
       "      <th>FATALITIES</th>\n",
       "      <th>MAX_SEV_IR</th>\n",
       "      <th>INJURY</th>\n",
       "    </tr>\n",
       "  </thead>\n",
       "  <tbody>\n",
       "    <tr>\n",
       "      <th>0</th>\n",
       "      <td>0</td>\n",
       "      <td>2</td>\n",
       "      <td>2</td>\n",
       "      <td>1</td>\n",
       "      <td>0</td>\n",
       "      <td>1</td>\n",
       "      <td>0</td>\n",
       "      <td>3</td>\n",
       "      <td>0</td>\n",
       "      <td>0</td>\n",
       "      <td>...</td>\n",
       "      <td>0</td>\n",
       "      <td>3</td>\n",
       "      <td>1</td>\n",
       "      <td>1</td>\n",
       "      <td>1</td>\n",
       "      <td>1</td>\n",
       "      <td>0</td>\n",
       "      <td>0</td>\n",
       "      <td>1</td>\n",
       "      <td>yes</td>\n",
       "    </tr>\n",
       "    <tr>\n",
       "      <th>1</th>\n",
       "      <td>1</td>\n",
       "      <td>2</td>\n",
       "      <td>1</td>\n",
       "      <td>0</td>\n",
       "      <td>0</td>\n",
       "      <td>1</td>\n",
       "      <td>1</td>\n",
       "      <td>3</td>\n",
       "      <td>2</td>\n",
       "      <td>0</td>\n",
       "      <td>...</td>\n",
       "      <td>0</td>\n",
       "      <td>3</td>\n",
       "      <td>2</td>\n",
       "      <td>2</td>\n",
       "      <td>0</td>\n",
       "      <td>0</td>\n",
       "      <td>1</td>\n",
       "      <td>0</td>\n",
       "      <td>0</td>\n",
       "      <td>no</td>\n",
       "    </tr>\n",
       "    <tr>\n",
       "      <th>2</th>\n",
       "      <td>1</td>\n",
       "      <td>2</td>\n",
       "      <td>1</td>\n",
       "      <td>0</td>\n",
       "      <td>0</td>\n",
       "      <td>1</td>\n",
       "      <td>0</td>\n",
       "      <td>3</td>\n",
       "      <td>2</td>\n",
       "      <td>0</td>\n",
       "      <td>...</td>\n",
       "      <td>1</td>\n",
       "      <td>2</td>\n",
       "      <td>2</td>\n",
       "      <td>2</td>\n",
       "      <td>0</td>\n",
       "      <td>0</td>\n",
       "      <td>1</td>\n",
       "      <td>0</td>\n",
       "      <td>0</td>\n",
       "      <td>no</td>\n",
       "    </tr>\n",
       "    <tr>\n",
       "      <th>3</th>\n",
       "      <td>1</td>\n",
       "      <td>2</td>\n",
       "      <td>1</td>\n",
       "      <td>1</td>\n",
       "      <td>0</td>\n",
       "      <td>0</td>\n",
       "      <td>0</td>\n",
       "      <td>3</td>\n",
       "      <td>2</td>\n",
       "      <td>0</td>\n",
       "      <td>...</td>\n",
       "      <td>1</td>\n",
       "      <td>2</td>\n",
       "      <td>2</td>\n",
       "      <td>1</td>\n",
       "      <td>0</td>\n",
       "      <td>0</td>\n",
       "      <td>1</td>\n",
       "      <td>0</td>\n",
       "      <td>0</td>\n",
       "      <td>no</td>\n",
       "    </tr>\n",
       "    <tr>\n",
       "      <th>4</th>\n",
       "      <td>1</td>\n",
       "      <td>1</td>\n",
       "      <td>1</td>\n",
       "      <td>0</td>\n",
       "      <td>0</td>\n",
       "      <td>1</td>\n",
       "      <td>0</td>\n",
       "      <td>3</td>\n",
       "      <td>2</td>\n",
       "      <td>0</td>\n",
       "      <td>...</td>\n",
       "      <td>0</td>\n",
       "      <td>2</td>\n",
       "      <td>3</td>\n",
       "      <td>1</td>\n",
       "      <td>0</td>\n",
       "      <td>0</td>\n",
       "      <td>1</td>\n",
       "      <td>0</td>\n",
       "      <td>0</td>\n",
       "      <td>no</td>\n",
       "    </tr>\n",
       "  </tbody>\n",
       "</table>\n",
       "<p>5 rows × 25 columns</p>\n",
       "</div>"
      ],
      "text/plain": [
       "   HOUR_I_R  ALCHL_I  ALIGN_I  STRATUM_R  WRK_ZONE  WKDY_I_R  INT_HWY  \\\n",
       "0         0        2        2          1         0         1        0   \n",
       "1         1        2        1          0         0         1        1   \n",
       "2         1        2        1          0         0         1        0   \n",
       "3         1        2        1          1         0         0        0   \n",
       "4         1        1        1          0         0         1        0   \n",
       "\n",
       "   LGTCON_I_R  MANCOL_I_R  PED_ACC_R  ...  TRAF_CON_R  TRAF_WAY  VEH_INVL  \\\n",
       "0           3           0          0  ...           0         3         1   \n",
       "1           3           2          0  ...           0         3         2   \n",
       "2           3           2          0  ...           1         2         2   \n",
       "3           3           2          0  ...           1         2         2   \n",
       "4           3           2          0  ...           0         2         3   \n",
       "\n",
       "   WEATHER_R  INJURY_CRASH  NO_INJ_I  PRPTYDMG_CRASH  FATALITIES  MAX_SEV_IR  \\\n",
       "0          1             1         1               0           0           1   \n",
       "1          2             0         0               1           0           0   \n",
       "2          2             0         0               1           0           0   \n",
       "3          1             0         0               1           0           0   \n",
       "4          1             0         0               1           0           0   \n",
       "\n",
       "   INJURY  \n",
       "0     yes  \n",
       "1      no  \n",
       "2      no  \n",
       "3      no  \n",
       "4      no  \n",
       "\n",
       "[5 rows x 25 columns]"
      ]
     },
     "execution_count": 241,
     "metadata": {},
     "output_type": "execute_result"
    }
   ],
   "source": [
    "df['INJURY'] = np.where(df['MAX_SEV_IR'].isin([1, 2]), 'yes', 'no')\n",
    "df.head()"
   ]
  },
  {
   "cell_type": "markdown",
   "id": "caac9844-d055-4405-bba1-63320983cf59",
   "metadata": {},
   "source": [
    "##### a. Using the information in this dataset, if an accident has just been reported and no further information is available, what should the prediction be? (INJURY = Yes or No?) Why?"
   ]
  },
  {
   "cell_type": "code",
   "execution_count": 242,
   "id": "344f686b-bb02-45d5-bdf6-e9c224c16384",
   "metadata": {},
   "outputs": [
    {
     "name": "stdout",
     "output_type": "stream",
     "text": [
      "Total Accidents:  42183\n",
      "Count of INJURY(INJURY = 'yes') 21462\n",
      "Count of INJURY(INJURY = 'no') 20721\n"
     ]
    }
   ],
   "source": [
    "count_total_accidents = len(df.index)\n",
    "count_injury_yes = len(df[df['INJURY'] ==  'yes'].index)\n",
    "count_injury_no = len(df[df['INJURY'] == 'no'].index)\n",
    "\n",
    "print('Total Accidents: ', count_total_accidents)\n",
    "print(\"Count of INJURY(INJURY = 'yes')\", count_injury_yes)\n",
    "print(\"Count of INJURY(INJURY = 'no')\", count_injury_no)"
   ]
  },
  {
   "cell_type": "code",
   "execution_count": 243,
   "id": "a8b19709-1bd1-4bb3-a22b-6736010b2282",
   "metadata": {},
   "outputs": [
    {
     "name": "stdout",
     "output_type": "stream",
     "text": [
      "P(INJURY = Yes): 0.5087831590925255\n",
      "P(INJURY = No): 0.4912168409074746\n"
     ]
    }
   ],
   "source": [
    "prob_injury_yes = count_injury_yes/count_total_accidents\n",
    "prob_injury_no = count_injury_no/count_total_accidents\n",
    "\n",
    "print('P(INJURY = Yes):', prob_injury_yes)\n",
    "print('P(INJURY = No):', prob_injury_no)"
   ]
  },
  {
   "cell_type": "markdown",
   "id": "77450037-6888-4380-81a6-113d3afa2887",
   "metadata": {},
   "source": [
    "###### Result"
   ]
  },
  {
   "cell_type": "markdown",
   "id": "bb58a2ac-fa48-42a2-8c3a-7dd5fa7fdb66",
   "metadata": {},
   "source": [
    "If an accident has just been reported and no further information is available, we will use the rule \"assign to the most probable class\". In this case since P(INJURY = Yes) is greater than P(INJURY = No), the most probable class is 'INJURY = Yes'. Therefore, the prediction will be INJURY = Yes. "
   ]
  },
  {
   "cell_type": "markdown",
   "id": "52b22d54-0218-4a5e-84d2-b42e98f760d7",
   "metadata": {},
   "source": [
    "##### b. Select the first 12 records in the dataset and look only at the response (INJURY) and the two predictors WEATHER_R and TRAF_CON_R."
   ]
  },
  {
   "cell_type": "markdown",
   "id": "4a9d283e-709f-4366-81d8-39978a0028df",
   "metadata": {},
   "source": [
    "###### i. Create a pivot table that examines INJURY as a function of the two predictors for these 12 records. Use all three variables in the pivot table as rows/columns."
   ]
  },
  {
   "cell_type": "code",
   "execution_count": 244,
   "id": "b56aa46f-b604-40cf-97f5-bfa326316c0c",
   "metadata": {},
   "outputs": [
    {
     "data": {
      "text/html": [
       "<div>\n",
       "<style scoped>\n",
       "    .dataframe tbody tr th:only-of-type {\n",
       "        vertical-align: middle;\n",
       "    }\n",
       "\n",
       "    .dataframe tbody tr th {\n",
       "        vertical-align: top;\n",
       "    }\n",
       "\n",
       "    .dataframe thead th {\n",
       "        text-align: right;\n",
       "    }\n",
       "</style>\n",
       "<table border=\"1\" class=\"dataframe\">\n",
       "  <thead>\n",
       "    <tr style=\"text-align: right;\">\n",
       "      <th></th>\n",
       "      <th>TRAF_CON_R</th>\n",
       "      <th>WEATHER_R</th>\n",
       "      <th>INJURY</th>\n",
       "    </tr>\n",
       "  </thead>\n",
       "  <tbody>\n",
       "    <tr>\n",
       "      <th>0</th>\n",
       "      <td>0</td>\n",
       "      <td>1</td>\n",
       "      <td>yes</td>\n",
       "    </tr>\n",
       "    <tr>\n",
       "      <th>1</th>\n",
       "      <td>0</td>\n",
       "      <td>2</td>\n",
       "      <td>no</td>\n",
       "    </tr>\n",
       "    <tr>\n",
       "      <th>2</th>\n",
       "      <td>1</td>\n",
       "      <td>2</td>\n",
       "      <td>no</td>\n",
       "    </tr>\n",
       "    <tr>\n",
       "      <th>3</th>\n",
       "      <td>1</td>\n",
       "      <td>1</td>\n",
       "      <td>no</td>\n",
       "    </tr>\n",
       "    <tr>\n",
       "      <th>4</th>\n",
       "      <td>0</td>\n",
       "      <td>1</td>\n",
       "      <td>no</td>\n",
       "    </tr>\n",
       "    <tr>\n",
       "      <th>5</th>\n",
       "      <td>0</td>\n",
       "      <td>2</td>\n",
       "      <td>yes</td>\n",
       "    </tr>\n",
       "    <tr>\n",
       "      <th>6</th>\n",
       "      <td>0</td>\n",
       "      <td>2</td>\n",
       "      <td>no</td>\n",
       "    </tr>\n",
       "    <tr>\n",
       "      <th>7</th>\n",
       "      <td>0</td>\n",
       "      <td>1</td>\n",
       "      <td>yes</td>\n",
       "    </tr>\n",
       "    <tr>\n",
       "      <th>8</th>\n",
       "      <td>0</td>\n",
       "      <td>2</td>\n",
       "      <td>no</td>\n",
       "    </tr>\n",
       "    <tr>\n",
       "      <th>9</th>\n",
       "      <td>0</td>\n",
       "      <td>2</td>\n",
       "      <td>no</td>\n",
       "    </tr>\n",
       "    <tr>\n",
       "      <th>10</th>\n",
       "      <td>0</td>\n",
       "      <td>2</td>\n",
       "      <td>no</td>\n",
       "    </tr>\n",
       "    <tr>\n",
       "      <th>11</th>\n",
       "      <td>2</td>\n",
       "      <td>1</td>\n",
       "      <td>no</td>\n",
       "    </tr>\n",
       "  </tbody>\n",
       "</table>\n",
       "</div>"
      ],
      "text/plain": [
       "    TRAF_CON_R  WEATHER_R INJURY\n",
       "0            0          1    yes\n",
       "1            0          2     no\n",
       "2            1          2     no\n",
       "3            1          1     no\n",
       "4            0          1     no\n",
       "5            0          2    yes\n",
       "6            0          2     no\n",
       "7            0          1    yes\n",
       "8            0          2     no\n",
       "9            0          2     no\n",
       "10           0          2     no\n",
       "11           2          1     no"
      ]
     },
     "metadata": {},
     "output_type": "display_data"
    },
    {
     "data": {
      "text/html": [
       "<div>\n",
       "<style scoped>\n",
       "    .dataframe tbody tr th:only-of-type {\n",
       "        vertical-align: middle;\n",
       "    }\n",
       "\n",
       "    .dataframe tbody tr th {\n",
       "        vertical-align: top;\n",
       "    }\n",
       "\n",
       "    .dataframe thead tr th {\n",
       "        text-align: left;\n",
       "    }\n",
       "\n",
       "    .dataframe thead tr:last-of-type th {\n",
       "        text-align: right;\n",
       "    }\n",
       "</style>\n",
       "<table border=\"1\" class=\"dataframe\">\n",
       "  <thead>\n",
       "    <tr>\n",
       "      <th>TRAF_CON_R</th>\n",
       "      <th colspan=\"2\" halign=\"left\">0</th>\n",
       "      <th colspan=\"2\" halign=\"left\">1</th>\n",
       "      <th>2</th>\n",
       "    </tr>\n",
       "    <tr>\n",
       "      <th>WEATHER_R</th>\n",
       "      <th>1</th>\n",
       "      <th>2</th>\n",
       "      <th>1</th>\n",
       "      <th>2</th>\n",
       "      <th>1</th>\n",
       "    </tr>\n",
       "    <tr>\n",
       "      <th>INJURY</th>\n",
       "      <th></th>\n",
       "      <th></th>\n",
       "      <th></th>\n",
       "      <th></th>\n",
       "      <th></th>\n",
       "    </tr>\n",
       "  </thead>\n",
       "  <tbody>\n",
       "    <tr>\n",
       "      <th>no</th>\n",
       "      <td>1</td>\n",
       "      <td>5</td>\n",
       "      <td>1</td>\n",
       "      <td>1</td>\n",
       "      <td>1</td>\n",
       "    </tr>\n",
       "    <tr>\n",
       "      <th>yes</th>\n",
       "      <td>2</td>\n",
       "      <td>1</td>\n",
       "      <td>0</td>\n",
       "      <td>0</td>\n",
       "      <td>0</td>\n",
       "    </tr>\n",
       "  </tbody>\n",
       "</table>\n",
       "</div>"
      ],
      "text/plain": [
       "TRAF_CON_R  0     1     2\n",
       "WEATHER_R   1  2  1  2  1\n",
       "INJURY                   \n",
       "no          1  5  1  1  1\n",
       "yes         2  1  0  0  0"
      ]
     },
     "metadata": {},
     "output_type": "display_data"
    }
   ],
   "source": [
    "df_12_rec = df[['TRAF_CON_R', 'WEATHER_R', 'INJURY']].iloc[:12,]\n",
    "display(df_12_rec)\n",
    "pivot_table = df_12_rec.pivot_table(index='INJURY', columns=['TRAF_CON_R', 'WEATHER_R'], aggfunc='size', fill_value=0)\n",
    "display(pivot_table)"
   ]
  },
  {
   "cell_type": "markdown",
   "id": "7c1066a3-57ed-4c88-a3bf-a1e0a1f1331e",
   "metadata": {},
   "source": [
    "###### ii. Compute the exact Bayes conditional probabilities of an injury (INJURY = Yes) given the six possible combinations of the predictors."
   ]
  },
  {
   "cell_type": "code",
   "execution_count": 245,
   "id": "e22af79f-85e2-43d0-8282-60beb58e1b6e",
   "metadata": {},
   "outputs": [
    {
     "name": "stdout",
     "output_type": "stream",
     "text": [
      "P(INJURY = Yes | TRAF_CON_R = 0, WEATHER_R = 1) =  0.6666666666666666\n",
      "P(INJURY = Yes | TRAF_CON_R = 0, WEATHER_R = 2) =  0.16666666666666666\n",
      "P(INJURY = Yes | TRAF_CON_R = 1, WEATHER_R = 1) =  0.0\n",
      "P(INJURY = Yes | TRAF_CON_R = 1, WEATHER_R = 2) =  0.0\n",
      "P(INJURY = Yes | TRAF_CON_R = 2, WEATHER_R = 1) =  0.0\n",
      "P(INJURY = Yes | TRAF_CON_R = 2, WEATHER_R = 2) =  0\n"
     ]
    },
    {
     "data": {
      "text/html": [
       "<div>\n",
       "<style scoped>\n",
       "    .dataframe tbody tr th:only-of-type {\n",
       "        vertical-align: middle;\n",
       "    }\n",
       "\n",
       "    .dataframe tbody tr th {\n",
       "        vertical-align: top;\n",
       "    }\n",
       "\n",
       "    .dataframe thead th {\n",
       "        text-align: right;\n",
       "    }\n",
       "</style>\n",
       "<table border=\"1\" class=\"dataframe\">\n",
       "  <thead>\n",
       "    <tr style=\"text-align: right;\">\n",
       "      <th></th>\n",
       "      <th>TRAF_CON_R</th>\n",
       "      <th>WEATHER_R</th>\n",
       "      <th>PROB_INJURY_YES</th>\n",
       "    </tr>\n",
       "  </thead>\n",
       "  <tbody>\n",
       "    <tr>\n",
       "      <th>0</th>\n",
       "      <td>0</td>\n",
       "      <td>1</td>\n",
       "      <td>0.666667</td>\n",
       "    </tr>\n",
       "    <tr>\n",
       "      <th>1</th>\n",
       "      <td>0</td>\n",
       "      <td>2</td>\n",
       "      <td>0.166667</td>\n",
       "    </tr>\n",
       "    <tr>\n",
       "      <th>2</th>\n",
       "      <td>1</td>\n",
       "      <td>1</td>\n",
       "      <td>0.000000</td>\n",
       "    </tr>\n",
       "    <tr>\n",
       "      <th>3</th>\n",
       "      <td>1</td>\n",
       "      <td>2</td>\n",
       "      <td>0.000000</td>\n",
       "    </tr>\n",
       "    <tr>\n",
       "      <th>4</th>\n",
       "      <td>2</td>\n",
       "      <td>1</td>\n",
       "      <td>0.000000</td>\n",
       "    </tr>\n",
       "    <tr>\n",
       "      <th>5</th>\n",
       "      <td>2</td>\n",
       "      <td>2</td>\n",
       "      <td>0.000000</td>\n",
       "    </tr>\n",
       "  </tbody>\n",
       "</table>\n",
       "</div>"
      ],
      "text/plain": [
       "   TRAF_CON_R  WEATHER_R  PROB_INJURY_YES\n",
       "0           0          1         0.666667\n",
       "1           0          2         0.166667\n",
       "2           1          1         0.000000\n",
       "3           1          2         0.000000\n",
       "4           2          1         0.000000\n",
       "5           2          2         0.000000"
      ]
     },
     "metadata": {},
     "output_type": "display_data"
    }
   ],
   "source": [
    "injury_yes_exact_bayes_df = pd.DataFrame({'TRAF_CON_R': [],\n",
    "                               'WEATHER_R': [],\n",
    "                               'PROB_INJURY_YES': []})\n",
    "prob_yes_0_1 = 2/3\n",
    "print('P(INJURY = Yes | TRAF_CON_R = 0, WEATHER_R = 1) = ', prob_yes_0_1)\n",
    "injury_yes_exact_bayes_df.loc[len(injury_yes_exact_bayes_df)] = [0, 1, prob_yes_0_1]\n",
    "\n",
    "prob_yes_0_2 = 1/6\n",
    "print('P(INJURY = Yes | TRAF_CON_R = 0, WEATHER_R = 2) = ', prob_yes_0_2)\n",
    "injury_yes_exact_bayes_df.loc[len(injury_yes_exact_bayes_df)] = [0, 2, prob_yes_0_2]\n",
    "\n",
    "prob_yes_1_1 = 0/1\n",
    "print('P(INJURY = Yes | TRAF_CON_R = 1, WEATHER_R = 1) = ', prob_yes_1_1)\n",
    "injury_yes_exact_bayes_df.loc[len(injury_yes_exact_bayes_df)] = [1, 1, prob_yes_1_1]\n",
    "\n",
    "prob_yes_1_2 = 0/1\n",
    "print('P(INJURY = Yes | TRAF_CON_R = 1, WEATHER_R = 2) = ', prob_yes_1_2)\n",
    "injury_yes_exact_bayes_df.loc[len(injury_yes_exact_bayes_df)] = [1, 2, prob_yes_1_2]\n",
    "\n",
    "prob_yes_2_1 = 0/1\n",
    "print('P(INJURY = Yes | TRAF_CON_R = 2, WEATHER_R = 1) = ', prob_yes_2_1)\n",
    "injury_yes_exact_bayes_df.loc[len(injury_yes_exact_bayes_df)] = [2, 1, prob_yes_2_1]\n",
    "\n",
    "prob_yes_2_2 = 0 # 0/0\n",
    "print('P(INJURY = Yes | TRAF_CON_R = 2, WEATHER_R = 2) = ', prob_yes_2_2)\n",
    "injury_yes_exact_bayes_df.loc[len(injury_yes_exact_bayes_df)] = [2, 2, prob_yes_2_2]\n",
    "\n",
    "injury_yes_exact_bayes_df['TRAF_CON_R'] = injury_yes_exact_bayes_df['TRAF_CON_R'].astype(int)\n",
    "injury_yes_exact_bayes_df['WEATHER_R'] = injury_yes_exact_bayes_df['WEATHER_R'].astype(int)\n",
    "display(injury_yes_exact_bayes_df)"
   ]
  },
  {
   "cell_type": "markdown",
   "id": "d21659c3-b854-46b6-b24f-d6caed20f473",
   "metadata": {},
   "source": [
    "###### iii. Classify the 12 accidents using these probabilities and a cutoff of 0.5."
   ]
  },
  {
   "cell_type": "code",
   "execution_count": 246,
   "id": "c447822f-b7b3-48eb-872a-9ba5f4e109f0",
   "metadata": {},
   "outputs": [
    {
     "data": {
      "text/html": [
       "<div>\n",
       "<style scoped>\n",
       "    .dataframe tbody tr th:only-of-type {\n",
       "        vertical-align: middle;\n",
       "    }\n",
       "\n",
       "    .dataframe tbody tr th {\n",
       "        vertical-align: top;\n",
       "    }\n",
       "\n",
       "    .dataframe thead th {\n",
       "        text-align: right;\n",
       "    }\n",
       "</style>\n",
       "<table border=\"1\" class=\"dataframe\">\n",
       "  <thead>\n",
       "    <tr style=\"text-align: right;\">\n",
       "      <th></th>\n",
       "      <th>TRAF_CON_R</th>\n",
       "      <th>WEATHER_R</th>\n",
       "      <th>INJURY</th>\n",
       "      <th>PROB_INJURY_YES</th>\n",
       "      <th>CLASSIFICATION</th>\n",
       "    </tr>\n",
       "  </thead>\n",
       "  <tbody>\n",
       "    <tr>\n",
       "      <th>0</th>\n",
       "      <td>0</td>\n",
       "      <td>1</td>\n",
       "      <td>yes</td>\n",
       "      <td>0.666667</td>\n",
       "      <td>yes</td>\n",
       "    </tr>\n",
       "    <tr>\n",
       "      <th>1</th>\n",
       "      <td>0</td>\n",
       "      <td>1</td>\n",
       "      <td>no</td>\n",
       "      <td>0.666667</td>\n",
       "      <td>yes</td>\n",
       "    </tr>\n",
       "    <tr>\n",
       "      <th>2</th>\n",
       "      <td>0</td>\n",
       "      <td>1</td>\n",
       "      <td>yes</td>\n",
       "      <td>0.666667</td>\n",
       "      <td>yes</td>\n",
       "    </tr>\n",
       "    <tr>\n",
       "      <th>3</th>\n",
       "      <td>0</td>\n",
       "      <td>2</td>\n",
       "      <td>no</td>\n",
       "      <td>0.166667</td>\n",
       "      <td>no</td>\n",
       "    </tr>\n",
       "    <tr>\n",
       "      <th>4</th>\n",
       "      <td>0</td>\n",
       "      <td>2</td>\n",
       "      <td>yes</td>\n",
       "      <td>0.166667</td>\n",
       "      <td>no</td>\n",
       "    </tr>\n",
       "    <tr>\n",
       "      <th>5</th>\n",
       "      <td>0</td>\n",
       "      <td>2</td>\n",
       "      <td>no</td>\n",
       "      <td>0.166667</td>\n",
       "      <td>no</td>\n",
       "    </tr>\n",
       "    <tr>\n",
       "      <th>6</th>\n",
       "      <td>0</td>\n",
       "      <td>2</td>\n",
       "      <td>no</td>\n",
       "      <td>0.166667</td>\n",
       "      <td>no</td>\n",
       "    </tr>\n",
       "    <tr>\n",
       "      <th>7</th>\n",
       "      <td>0</td>\n",
       "      <td>2</td>\n",
       "      <td>no</td>\n",
       "      <td>0.166667</td>\n",
       "      <td>no</td>\n",
       "    </tr>\n",
       "    <tr>\n",
       "      <th>8</th>\n",
       "      <td>0</td>\n",
       "      <td>2</td>\n",
       "      <td>no</td>\n",
       "      <td>0.166667</td>\n",
       "      <td>no</td>\n",
       "    </tr>\n",
       "    <tr>\n",
       "      <th>9</th>\n",
       "      <td>1</td>\n",
       "      <td>2</td>\n",
       "      <td>no</td>\n",
       "      <td>0.000000</td>\n",
       "      <td>no</td>\n",
       "    </tr>\n",
       "    <tr>\n",
       "      <th>10</th>\n",
       "      <td>1</td>\n",
       "      <td>1</td>\n",
       "      <td>no</td>\n",
       "      <td>0.000000</td>\n",
       "      <td>no</td>\n",
       "    </tr>\n",
       "    <tr>\n",
       "      <th>11</th>\n",
       "      <td>2</td>\n",
       "      <td>1</td>\n",
       "      <td>no</td>\n",
       "      <td>0.000000</td>\n",
       "      <td>no</td>\n",
       "    </tr>\n",
       "  </tbody>\n",
       "</table>\n",
       "</div>"
      ],
      "text/plain": [
       "    TRAF_CON_R  WEATHER_R INJURY  PROB_INJURY_YES CLASSIFICATION\n",
       "0            0          1    yes         0.666667            yes\n",
       "1            0          1     no         0.666667            yes\n",
       "2            0          1    yes         0.666667            yes\n",
       "3            0          2     no         0.166667             no\n",
       "4            0          2    yes         0.166667             no\n",
       "5            0          2     no         0.166667             no\n",
       "6            0          2     no         0.166667             no\n",
       "7            0          2     no         0.166667             no\n",
       "8            0          2     no         0.166667             no\n",
       "9            1          2     no         0.000000             no\n",
       "10           1          1     no         0.000000             no\n",
       "11           2          1     no         0.000000             no"
      ]
     },
     "metadata": {},
     "output_type": "display_data"
    }
   ],
   "source": [
    "df_merged = df_12_rec.merge(injury_yes_exact_bayes_df, on=[\"TRAF_CON_R\", \"WEATHER_R\"])\n",
    "df_merged['CLASSIFICATION'] = 'no'\n",
    "df_merged.loc[df_merged[\"PROB_INJURY_YES\"] > 0.5, \"CLASSIFICATION\"] = 'yes'\n",
    "display(df_merged)"
   ]
  },
  {
   "cell_type": "markdown",
   "id": "dacbf482-a930-472a-a7f4-8c82b0931662",
   "metadata": {},
   "source": [
    "###### iv. Compute manually the naive Bayes conditional probability of an injury given WEATHER_R = 1 and TRAF_CON_R = 1."
   ]
  },
  {
   "cell_type": "code",
   "execution_count": 247,
   "id": "b3182b1f-b115-478a-9214-849e81c3bdb2",
   "metadata": {},
   "outputs": [
    {
     "name": "stdout",
     "output_type": "stream",
     "text": [
      "P(INJURY = yes | WEATHER_R = 1, TRAF_CON_R = 1) =\n",
      "\n",
      "                      P(WEATHER_R = 1 | INJURY = yes) P(TRAF_CON_R = 1 | INJURY = yes) P(INJURY = yes)\n",
      "= -----------------------------------------------------------------------------------------------------------------------------------------------------------------\n",
      "   P(WEATHER_R = 1 | INJURY = yes) P(TRAF_CON_R = 1 | INJURY = yes) P(INJURY = yes) + P(WEATHER_R = 1 | INJURY = no) P(TRAF_CON_R = 1 | INJURY = no) P(INJURY = no)\n"
     ]
    }
   ],
   "source": [
    "print('P(INJURY = yes | WEATHER_R = 1, TRAF_CON_R = 1) =\\n')\n",
    "\n",
    "print('                      P(WEATHER_R = 1 | INJURY = yes) P(TRAF_CON_R = 1 | INJURY = yes) P(INJURY = yes)')\n",
    "print('= -----------------------------------------------------------------------------------------------------------------------------------------------------------------')\n",
    "print('   P(WEATHER_R = 1 | INJURY = yes) P(TRAF_CON_R = 1 | INJURY = yes) P(INJURY = yes) + P(WEATHER_R = 1 | INJURY = no) P(TRAF_CON_R = 1 | INJURY = no) P(INJURY = no)')"
   ]
  },
  {
   "cell_type": "code",
   "execution_count": 248,
   "id": "2c42c1e5-d260-483e-940b-6bc4bed196e8",
   "metadata": {},
   "outputs": [
    {
     "name": "stdout",
     "output_type": "stream",
     "text": [
      "P(INJURY = yes | WEATHER_R = 1, TRAF_CON_R = 1) =  0.0\n"
     ]
    }
   ],
   "source": [
    "# Obtaining following values from above pivot table\n",
    "p_W_1_I_yes = 2/3\n",
    "p_T_1_I_yes = 0/3\n",
    "p_I_yes = 3/12\n",
    "p_W_1_I_no = 3/9\n",
    "p_T_1_I_no = 2/9\n",
    "p_I_no = 9/12\n",
    "\n",
    "try:\n",
    "    prob = (p_W_1_I_yes * p_T_1_I_yes * p_I_yes)/((p_W_1_I_yes * p_T_1_I_yes * p_I_yes) + (p_W_1_I_no * p_T_1_I_no * p_I_no))\n",
    "except ZeroDivisionError:\n",
    "    prob = 0\n",
    "\n",
    "print('P(INJURY = yes | WEATHER_R = 1, TRAF_CON_R = 1) = ', prob)"
   ]
  },
  {
   "cell_type": "markdown",
   "id": "43937dea-2a1c-47f7-a07f-c71e52e91e8e",
   "metadata": {},
   "source": [
    "###### v. Run a naive Bayes classifier on the 12 records and 2 predictors using scikitlearn. Check the model output to obtain probabilities and classifications for all 12 records. Compare this to the exact Bayes classification. Are the resulting classifications equivalent? Is the ranking (=ordering) of observations equivalent?"
   ]
  },
  {
   "cell_type": "markdown",
   "id": "8db15454-58ff-49aa-815a-eff1a7947bb2",
   "metadata": {},
   "source": [
    "Converting variables to categorical."
   ]
  },
  {
   "cell_type": "code",
   "execution_count": 249,
   "id": "5d733f19-46e8-40db-a53b-44edf71e0681",
   "metadata": {},
   "outputs": [],
   "source": [
    "df_12_rec.TRAF_CON_R = df_12_rec.TRAF_CON_R.astype('category')\n",
    "df_12_rec.WEATHER_R = df_12_rec.WEATHER_R.astype('category')\n",
    "df_12_rec.INJURY = df_12_rec.INJURY.astype('category')"
   ]
  },
  {
   "cell_type": "code",
   "execution_count": 250,
   "id": "f810097f-cfb1-4fd3-a043-6bc4d050264d",
   "metadata": {},
   "outputs": [],
   "source": [
    "X = pd.get_dummies(df_12_rec[['TRAF_CON_R', 'WEATHER_R']])\n",
    "y = df_12_rec['INJURY']\n",
    "classes = list(y.cat.categories)"
   ]
  },
  {
   "cell_type": "markdown",
   "id": "6807718b-40b5-4ea7-9148-d13de7ec8f6b",
   "metadata": {},
   "source": [
    "Running naive Bayes "
   ]
  },
  {
   "cell_type": "code",
   "execution_count": 251,
   "id": "ff523241-52e5-4cb3-8c62-ac0e4c6fb501",
   "metadata": {},
   "outputs": [
    {
     "data": {
      "text/html": [
       "<style>#sk-container-id-14 {color: black;background-color: white;}#sk-container-id-14 pre{padding: 0;}#sk-container-id-14 div.sk-toggleable {background-color: white;}#sk-container-id-14 label.sk-toggleable__label {cursor: pointer;display: block;width: 100%;margin-bottom: 0;padding: 0.3em;box-sizing: border-box;text-align: center;}#sk-container-id-14 label.sk-toggleable__label-arrow:before {content: \"▸\";float: left;margin-right: 0.25em;color: #696969;}#sk-container-id-14 label.sk-toggleable__label-arrow:hover:before {color: black;}#sk-container-id-14 div.sk-estimator:hover label.sk-toggleable__label-arrow:before {color: black;}#sk-container-id-14 div.sk-toggleable__content {max-height: 0;max-width: 0;overflow: hidden;text-align: left;background-color: #f0f8ff;}#sk-container-id-14 div.sk-toggleable__content pre {margin: 0.2em;color: black;border-radius: 0.25em;background-color: #f0f8ff;}#sk-container-id-14 input.sk-toggleable__control:checked~div.sk-toggleable__content {max-height: 200px;max-width: 100%;overflow: auto;}#sk-container-id-14 input.sk-toggleable__control:checked~label.sk-toggleable__label-arrow:before {content: \"▾\";}#sk-container-id-14 div.sk-estimator input.sk-toggleable__control:checked~label.sk-toggleable__label {background-color: #d4ebff;}#sk-container-id-14 div.sk-label input.sk-toggleable__control:checked~label.sk-toggleable__label {background-color: #d4ebff;}#sk-container-id-14 input.sk-hidden--visually {border: 0;clip: rect(1px 1px 1px 1px);clip: rect(1px, 1px, 1px, 1px);height: 1px;margin: -1px;overflow: hidden;padding: 0;position: absolute;width: 1px;}#sk-container-id-14 div.sk-estimator {font-family: monospace;background-color: #f0f8ff;border: 1px dotted black;border-radius: 0.25em;box-sizing: border-box;margin-bottom: 0.5em;}#sk-container-id-14 div.sk-estimator:hover {background-color: #d4ebff;}#sk-container-id-14 div.sk-parallel-item::after {content: \"\";width: 100%;border-bottom: 1px solid gray;flex-grow: 1;}#sk-container-id-14 div.sk-label:hover label.sk-toggleable__label {background-color: #d4ebff;}#sk-container-id-14 div.sk-serial::before {content: \"\";position: absolute;border-left: 1px solid gray;box-sizing: border-box;top: 0;bottom: 0;left: 50%;z-index: 0;}#sk-container-id-14 div.sk-serial {display: flex;flex-direction: column;align-items: center;background-color: white;padding-right: 0.2em;padding-left: 0.2em;position: relative;}#sk-container-id-14 div.sk-item {position: relative;z-index: 1;}#sk-container-id-14 div.sk-parallel {display: flex;align-items: stretch;justify-content: center;background-color: white;position: relative;}#sk-container-id-14 div.sk-item::before, #sk-container-id-14 div.sk-parallel-item::before {content: \"\";position: absolute;border-left: 1px solid gray;box-sizing: border-box;top: 0;bottom: 0;left: 50%;z-index: -1;}#sk-container-id-14 div.sk-parallel-item {display: flex;flex-direction: column;z-index: 1;position: relative;background-color: white;}#sk-container-id-14 div.sk-parallel-item:first-child::after {align-self: flex-end;width: 50%;}#sk-container-id-14 div.sk-parallel-item:last-child::after {align-self: flex-start;width: 50%;}#sk-container-id-14 div.sk-parallel-item:only-child::after {width: 0;}#sk-container-id-14 div.sk-dashed-wrapped {border: 1px dashed gray;margin: 0 0.4em 0.5em 0.4em;box-sizing: border-box;padding-bottom: 0.4em;background-color: white;}#sk-container-id-14 div.sk-label label {font-family: monospace;font-weight: bold;display: inline-block;line-height: 1.2em;}#sk-container-id-14 div.sk-label-container {text-align: center;}#sk-container-id-14 div.sk-container {/* jupyter's `normalize.less` sets `[hidden] { display: none; }` but bootstrap.min.css set `[hidden] { display: none !important; }` so we also need the `!important` here to be able to override the default hidden behavior on the sphinx rendered scikit-learn.org. See: https://github.com/scikit-learn/scikit-learn/issues/21755 */display: inline-block !important;position: relative;}#sk-container-id-14 div.sk-text-repr-fallback {display: none;}</style><div id=\"sk-container-id-14\" class=\"sk-top-container\"><div class=\"sk-text-repr-fallback\"><pre>MultinomialNB(alpha=0.01)</pre><b>In a Jupyter environment, please rerun this cell to show the HTML representation or trust the notebook. <br />On GitHub, the HTML representation is unable to render, please try loading this page with nbviewer.org.</b></div><div class=\"sk-container\" hidden><div class=\"sk-item\"><div class=\"sk-estimator sk-toggleable\"><input class=\"sk-toggleable__control sk-hidden--visually\" id=\"sk-estimator-id-14\" type=\"checkbox\" checked><label for=\"sk-estimator-id-14\" class=\"sk-toggleable__label sk-toggleable__label-arrow\">MultinomialNB</label><div class=\"sk-toggleable__content\"><pre>MultinomialNB(alpha=0.01)</pre></div></div></div></div></div>"
      ],
      "text/plain": [
       "MultinomialNB(alpha=0.01)"
      ]
     },
     "execution_count": 251,
     "metadata": {},
     "output_type": "execute_result"
    }
   ],
   "source": [
    "nb = MultinomialNB(alpha=0.01)\n",
    "nb.fit(X, y)"
   ]
  },
  {
   "cell_type": "markdown",
   "id": "2bd599b3-7639-4ba1-a10c-aa18a00a3f71",
   "metadata": {},
   "source": [
    "Predicting probabilities "
   ]
  },
  {
   "cell_type": "code",
   "execution_count": 252,
   "id": "089d785a-02c6-49a5-ad52-614da1d34050",
   "metadata": {},
   "outputs": [],
   "source": [
    "predProb = nb.predict_proba(X)"
   ]
  },
  {
   "cell_type": "markdown",
   "id": "d1e20f42-d810-4fe1-b155-b1aadbf87a2d",
   "metadata": {},
   "source": [
    "Predicting class membership"
   ]
  },
  {
   "cell_type": "code",
   "execution_count": 253,
   "id": "eee00894-af42-4ae7-937f-1fd1628d5851",
   "metadata": {},
   "outputs": [],
   "source": [
    "y_pred = nb.predict(X)"
   ]
  },
  {
   "cell_type": "code",
   "execution_count": 254,
   "id": "f05c3cda-6054-4211-858d-727137e63dde",
   "metadata": {},
   "outputs": [
    {
     "data": {
      "text/html": [
       "<div>\n",
       "<style scoped>\n",
       "    .dataframe tbody tr th:only-of-type {\n",
       "        vertical-align: middle;\n",
       "    }\n",
       "\n",
       "    .dataframe tbody tr th {\n",
       "        vertical-align: top;\n",
       "    }\n",
       "\n",
       "    .dataframe thead th {\n",
       "        text-align: right;\n",
       "    }\n",
       "</style>\n",
       "<table border=\"1\" class=\"dataframe\">\n",
       "  <thead>\n",
       "    <tr style=\"text-align: right;\">\n",
       "      <th></th>\n",
       "      <th>TRAF_CON_R</th>\n",
       "      <th>WEATHER_R</th>\n",
       "      <th>INJURY</th>\n",
       "      <th>actual</th>\n",
       "      <th>predicted</th>\n",
       "      <th>0</th>\n",
       "      <th>1</th>\n",
       "    </tr>\n",
       "  </thead>\n",
       "  <tbody>\n",
       "    <tr>\n",
       "      <th>0</th>\n",
       "      <td>0</td>\n",
       "      <td>1</td>\n",
       "      <td>yes</td>\n",
       "      <td>yes</td>\n",
       "      <td>no</td>\n",
       "      <td>0.501932</td>\n",
       "      <td>0.498068</td>\n",
       "    </tr>\n",
       "    <tr>\n",
       "      <th>1</th>\n",
       "      <td>0</td>\n",
       "      <td>2</td>\n",
       "      <td>no</td>\n",
       "      <td>no</td>\n",
       "      <td>no</td>\n",
       "      <td>0.800176</td>\n",
       "      <td>0.199824</td>\n",
       "    </tr>\n",
       "    <tr>\n",
       "      <th>2</th>\n",
       "      <td>1</td>\n",
       "      <td>2</td>\n",
       "      <td>no</td>\n",
       "      <td>no</td>\n",
       "      <td>no</td>\n",
       "      <td>0.997525</td>\n",
       "      <td>0.002475</td>\n",
       "    </tr>\n",
       "    <tr>\n",
       "      <th>3</th>\n",
       "      <td>1</td>\n",
       "      <td>1</td>\n",
       "      <td>no</td>\n",
       "      <td>no</td>\n",
       "      <td>no</td>\n",
       "      <td>0.990239</td>\n",
       "      <td>0.009761</td>\n",
       "    </tr>\n",
       "    <tr>\n",
       "      <th>4</th>\n",
       "      <td>0</td>\n",
       "      <td>1</td>\n",
       "      <td>no</td>\n",
       "      <td>no</td>\n",
       "      <td>no</td>\n",
       "      <td>0.501932</td>\n",
       "      <td>0.498068</td>\n",
       "    </tr>\n",
       "    <tr>\n",
       "      <th>5</th>\n",
       "      <td>0</td>\n",
       "      <td>2</td>\n",
       "      <td>yes</td>\n",
       "      <td>yes</td>\n",
       "      <td>no</td>\n",
       "      <td>0.800176</td>\n",
       "      <td>0.199824</td>\n",
       "    </tr>\n",
       "    <tr>\n",
       "      <th>6</th>\n",
       "      <td>0</td>\n",
       "      <td>2</td>\n",
       "      <td>no</td>\n",
       "      <td>no</td>\n",
       "      <td>no</td>\n",
       "      <td>0.800176</td>\n",
       "      <td>0.199824</td>\n",
       "    </tr>\n",
       "    <tr>\n",
       "      <th>7</th>\n",
       "      <td>0</td>\n",
       "      <td>1</td>\n",
       "      <td>yes</td>\n",
       "      <td>yes</td>\n",
       "      <td>no</td>\n",
       "      <td>0.501932</td>\n",
       "      <td>0.498068</td>\n",
       "    </tr>\n",
       "    <tr>\n",
       "      <th>8</th>\n",
       "      <td>0</td>\n",
       "      <td>2</td>\n",
       "      <td>no</td>\n",
       "      <td>no</td>\n",
       "      <td>no</td>\n",
       "      <td>0.800176</td>\n",
       "      <td>0.199824</td>\n",
       "    </tr>\n",
       "    <tr>\n",
       "      <th>9</th>\n",
       "      <td>0</td>\n",
       "      <td>2</td>\n",
       "      <td>no</td>\n",
       "      <td>no</td>\n",
       "      <td>no</td>\n",
       "      <td>0.800176</td>\n",
       "      <td>0.199824</td>\n",
       "    </tr>\n",
       "    <tr>\n",
       "      <th>10</th>\n",
       "      <td>0</td>\n",
       "      <td>2</td>\n",
       "      <td>no</td>\n",
       "      <td>no</td>\n",
       "      <td>no</td>\n",
       "      <td>0.800176</td>\n",
       "      <td>0.199824</td>\n",
       "    </tr>\n",
       "    <tr>\n",
       "      <th>11</th>\n",
       "      <td>2</td>\n",
       "      <td>1</td>\n",
       "      <td>no</td>\n",
       "      <td>no</td>\n",
       "      <td>no</td>\n",
       "      <td>0.980761</td>\n",
       "      <td>0.019239</td>\n",
       "    </tr>\n",
       "  </tbody>\n",
       "</table>\n",
       "</div>"
      ],
      "text/plain": [
       "   TRAF_CON_R WEATHER_R INJURY actual predicted         0         1\n",
       "0           0         1    yes    yes        no  0.501932  0.498068\n",
       "1           0         2     no     no        no  0.800176  0.199824\n",
       "2           1         2     no     no        no  0.997525  0.002475\n",
       "3           1         1     no     no        no  0.990239  0.009761\n",
       "4           0         1     no     no        no  0.501932  0.498068\n",
       "5           0         2    yes    yes        no  0.800176  0.199824\n",
       "6           0         2     no     no        no  0.800176  0.199824\n",
       "7           0         1    yes    yes        no  0.501932  0.498068\n",
       "8           0         2     no     no        no  0.800176  0.199824\n",
       "9           0         2     no     no        no  0.800176  0.199824\n",
       "10          0         2     no     no        no  0.800176  0.199824\n",
       "11          2         1     no     no        no  0.980761  0.019239"
      ]
     },
     "metadata": {},
     "output_type": "display_data"
    }
   ],
   "source": [
    "temp_df = pd.concat([df_12_rec,\n",
    "                     pd.DataFrame({'actual': y, 'predicted': y_pred}),\n",
    "                     pd.DataFrame(predProb, index=y.index)], axis=1)\n",
    " \n",
    "display(temp_df)"
   ]
  },
  {
   "cell_type": "markdown",
   "id": "d183eb48-a8cd-4a99-a82e-fa37f5f0be4c",
   "metadata": {},
   "source": [
    "Result \n",
    "\n",
    "Resulting classifications are more or less equivalent."
   ]
  },
  {
   "cell_type": "markdown",
   "id": "12d53ea1-43cb-4eeb-9ff9-a4befa70207a",
   "metadata": {},
   "source": [
    "##### c. Let us now return to the entire dataset. Partition the data into training (60%) and validation (40%)."
   ]
  },
  {
   "cell_type": "markdown",
   "id": "0576834e-f819-4ecc-bd19-10cf31309cb9",
   "metadata": {},
   "source": [
    "###### i. Assuming that no information or initial reports about the accident itself are available at the time of prediction (only location characteristics, weather conditions, etc.), which predictors can we include in the analysis? (Use the data descriptions page from www.dataminingbook.com.)"
   ]
  },
  {
   "cell_type": "markdown",
   "id": "266cb869-f94a-44cb-b71f-ff652765947b",
   "metadata": {},
   "source": [
    "Considering no information or initial reports about the accident itself are available at the time of prediction (only location characteristics, weather conditions, etc), I think, we can include following predictors in the analysis. \n",
    "\n",
    "    1. HOUR_I_R\n",
    "    2. ALIGN_I\n",
    "    3. WRK_ZONE\n",
    "    4. WKDY_I_R\n",
    "    5. INT_HWY\n",
    "    6. LGTCON_I_R\n",
    "    7. RELJCT_I_R\n",
    "    8. REL_RWY_R\n",
    "    9. SPD_LIM\n",
    "    10. SUR_COND\n",
    "    11. WEATHER_R"
   ]
  },
  {
   "cell_type": "code",
   "execution_count": 255,
   "id": "10892692-5aa4-4dba-8b0d-7b3b22de3a43",
   "metadata": {},
   "outputs": [],
   "source": [
    "predictors = ['HOUR_I_R', 'ALIGN_I', 'WRK_ZONE', 'WKDY_I_R', 'INT_HWY', 'LGTCON_I_R', 'RELJCT_I_R', 'REL_RWY_R', 'SPD_LIM', 'SUR_COND', 'WEATHER_R']"
   ]
  },
  {
   "cell_type": "code",
   "execution_count": 256,
   "id": "f7434235-9940-4560-a7d9-905d2d116e9e",
   "metadata": {},
   "outputs": [
    {
     "data": {
      "text/html": [
       "<div>\n",
       "<style scoped>\n",
       "    .dataframe tbody tr th:only-of-type {\n",
       "        vertical-align: middle;\n",
       "    }\n",
       "\n",
       "    .dataframe tbody tr th {\n",
       "        vertical-align: top;\n",
       "    }\n",
       "\n",
       "    .dataframe thead th {\n",
       "        text-align: right;\n",
       "    }\n",
       "</style>\n",
       "<table border=\"1\" class=\"dataframe\">\n",
       "  <thead>\n",
       "    <tr style=\"text-align: right;\">\n",
       "      <th></th>\n",
       "      <th>HOUR_I_R</th>\n",
       "      <th>ALIGN_I</th>\n",
       "      <th>WRK_ZONE</th>\n",
       "      <th>WKDY_I_R</th>\n",
       "      <th>INT_HWY</th>\n",
       "      <th>LGTCON_I_R</th>\n",
       "      <th>RELJCT_I_R</th>\n",
       "      <th>REL_RWY_R</th>\n",
       "      <th>SPD_LIM</th>\n",
       "      <th>SUR_COND</th>\n",
       "      <th>WEATHER_R</th>\n",
       "    </tr>\n",
       "  </thead>\n",
       "  <tbody>\n",
       "    <tr>\n",
       "      <th>0</th>\n",
       "      <td>0</td>\n",
       "      <td>2</td>\n",
       "      <td>0</td>\n",
       "      <td>1</td>\n",
       "      <td>0</td>\n",
       "      <td>3</td>\n",
       "      <td>1</td>\n",
       "      <td>0</td>\n",
       "      <td>40</td>\n",
       "      <td>4</td>\n",
       "      <td>1</td>\n",
       "    </tr>\n",
       "    <tr>\n",
       "      <th>1</th>\n",
       "      <td>1</td>\n",
       "      <td>1</td>\n",
       "      <td>0</td>\n",
       "      <td>1</td>\n",
       "      <td>1</td>\n",
       "      <td>3</td>\n",
       "      <td>1</td>\n",
       "      <td>1</td>\n",
       "      <td>70</td>\n",
       "      <td>4</td>\n",
       "      <td>2</td>\n",
       "    </tr>\n",
       "    <tr>\n",
       "      <th>2</th>\n",
       "      <td>1</td>\n",
       "      <td>1</td>\n",
       "      <td>0</td>\n",
       "      <td>1</td>\n",
       "      <td>0</td>\n",
       "      <td>3</td>\n",
       "      <td>1</td>\n",
       "      <td>1</td>\n",
       "      <td>35</td>\n",
       "      <td>4</td>\n",
       "      <td>2</td>\n",
       "    </tr>\n",
       "    <tr>\n",
       "      <th>3</th>\n",
       "      <td>1</td>\n",
       "      <td>1</td>\n",
       "      <td>0</td>\n",
       "      <td>0</td>\n",
       "      <td>0</td>\n",
       "      <td>3</td>\n",
       "      <td>1</td>\n",
       "      <td>1</td>\n",
       "      <td>35</td>\n",
       "      <td>4</td>\n",
       "      <td>1</td>\n",
       "    </tr>\n",
       "    <tr>\n",
       "      <th>4</th>\n",
       "      <td>1</td>\n",
       "      <td>1</td>\n",
       "      <td>0</td>\n",
       "      <td>1</td>\n",
       "      <td>0</td>\n",
       "      <td>3</td>\n",
       "      <td>0</td>\n",
       "      <td>1</td>\n",
       "      <td>25</td>\n",
       "      <td>4</td>\n",
       "      <td>1</td>\n",
       "    </tr>\n",
       "  </tbody>\n",
       "</table>\n",
       "</div>"
      ],
      "text/plain": [
       "  HOUR_I_R ALIGN_I WRK_ZONE WKDY_I_R INT_HWY LGTCON_I_R RELJCT_I_R REL_RWY_R  \\\n",
       "0        0       2        0        1       0          3          1         0   \n",
       "1        1       1        0        1       1          3          1         1   \n",
       "2        1       1        0        1       0          3          1         1   \n",
       "3        1       1        0        0       0          3          1         1   \n",
       "4        1       1        0        1       0          3          0         1   \n",
       "\n",
       "  SPD_LIM SUR_COND WEATHER_R  \n",
       "0      40        4         1  \n",
       "1      70        4         2  \n",
       "2      35        4         2  \n",
       "3      35        4         1  \n",
       "4      25        4         1  "
      ]
     },
     "metadata": {},
     "output_type": "display_data"
    }
   ],
   "source": [
    "X = df[predictors]\n",
    "X = X.astype('category')\n",
    "display(X.head())\n",
    "X = pd.get_dummies(X)\n",
    "y = df['INJURY'].astype('category')\n",
    "classes = list(y.cat.categories)"
   ]
  },
  {
   "cell_type": "markdown",
   "id": "b91b6c7d-b256-4a23-9208-38833aa40e23",
   "metadata": {},
   "source": [
    "Partitioning the data into training (60%) and validation (40%)"
   ]
  },
  {
   "cell_type": "code",
   "execution_count": 257,
   "id": "058d3d59-8236-42fd-9f69-28958c3c31cb",
   "metadata": {},
   "outputs": [],
   "source": [
    "# split into training and validation\n",
    "X_train, X_valid, y_train, y_valid = train_test_split(X, y, test_size=0.40, random_state=1)"
   ]
  },
  {
   "cell_type": "markdown",
   "id": "cdd33d65-3c9a-4a8b-8c35-ef2fd75689f7",
   "metadata": {},
   "source": [
    "###### ii. Run a naive Bayes classifier on the complete training set with the relevant predictors (and INJURY as the response). Note that all predictors are categorical. Show the confusion matrix."
   ]
  },
  {
   "cell_type": "code",
   "execution_count": 258,
   "id": "16329809-1092-434c-a6bf-18213c0dd979",
   "metadata": {},
   "outputs": [
    {
     "data": {
      "text/html": [
       "<style>#sk-container-id-15 {color: black;background-color: white;}#sk-container-id-15 pre{padding: 0;}#sk-container-id-15 div.sk-toggleable {background-color: white;}#sk-container-id-15 label.sk-toggleable__label {cursor: pointer;display: block;width: 100%;margin-bottom: 0;padding: 0.3em;box-sizing: border-box;text-align: center;}#sk-container-id-15 label.sk-toggleable__label-arrow:before {content: \"▸\";float: left;margin-right: 0.25em;color: #696969;}#sk-container-id-15 label.sk-toggleable__label-arrow:hover:before {color: black;}#sk-container-id-15 div.sk-estimator:hover label.sk-toggleable__label-arrow:before {color: black;}#sk-container-id-15 div.sk-toggleable__content {max-height: 0;max-width: 0;overflow: hidden;text-align: left;background-color: #f0f8ff;}#sk-container-id-15 div.sk-toggleable__content pre {margin: 0.2em;color: black;border-radius: 0.25em;background-color: #f0f8ff;}#sk-container-id-15 input.sk-toggleable__control:checked~div.sk-toggleable__content {max-height: 200px;max-width: 100%;overflow: auto;}#sk-container-id-15 input.sk-toggleable__control:checked~label.sk-toggleable__label-arrow:before {content: \"▾\";}#sk-container-id-15 div.sk-estimator input.sk-toggleable__control:checked~label.sk-toggleable__label {background-color: #d4ebff;}#sk-container-id-15 div.sk-label input.sk-toggleable__control:checked~label.sk-toggleable__label {background-color: #d4ebff;}#sk-container-id-15 input.sk-hidden--visually {border: 0;clip: rect(1px 1px 1px 1px);clip: rect(1px, 1px, 1px, 1px);height: 1px;margin: -1px;overflow: hidden;padding: 0;position: absolute;width: 1px;}#sk-container-id-15 div.sk-estimator {font-family: monospace;background-color: #f0f8ff;border: 1px dotted black;border-radius: 0.25em;box-sizing: border-box;margin-bottom: 0.5em;}#sk-container-id-15 div.sk-estimator:hover {background-color: #d4ebff;}#sk-container-id-15 div.sk-parallel-item::after {content: \"\";width: 100%;border-bottom: 1px solid gray;flex-grow: 1;}#sk-container-id-15 div.sk-label:hover label.sk-toggleable__label {background-color: #d4ebff;}#sk-container-id-15 div.sk-serial::before {content: \"\";position: absolute;border-left: 1px solid gray;box-sizing: border-box;top: 0;bottom: 0;left: 50%;z-index: 0;}#sk-container-id-15 div.sk-serial {display: flex;flex-direction: column;align-items: center;background-color: white;padding-right: 0.2em;padding-left: 0.2em;position: relative;}#sk-container-id-15 div.sk-item {position: relative;z-index: 1;}#sk-container-id-15 div.sk-parallel {display: flex;align-items: stretch;justify-content: center;background-color: white;position: relative;}#sk-container-id-15 div.sk-item::before, #sk-container-id-15 div.sk-parallel-item::before {content: \"\";position: absolute;border-left: 1px solid gray;box-sizing: border-box;top: 0;bottom: 0;left: 50%;z-index: -1;}#sk-container-id-15 div.sk-parallel-item {display: flex;flex-direction: column;z-index: 1;position: relative;background-color: white;}#sk-container-id-15 div.sk-parallel-item:first-child::after {align-self: flex-end;width: 50%;}#sk-container-id-15 div.sk-parallel-item:last-child::after {align-self: flex-start;width: 50%;}#sk-container-id-15 div.sk-parallel-item:only-child::after {width: 0;}#sk-container-id-15 div.sk-dashed-wrapped {border: 1px dashed gray;margin: 0 0.4em 0.5em 0.4em;box-sizing: border-box;padding-bottom: 0.4em;background-color: white;}#sk-container-id-15 div.sk-label label {font-family: monospace;font-weight: bold;display: inline-block;line-height: 1.2em;}#sk-container-id-15 div.sk-label-container {text-align: center;}#sk-container-id-15 div.sk-container {/* jupyter's `normalize.less` sets `[hidden] { display: none; }` but bootstrap.min.css set `[hidden] { display: none !important; }` so we also need the `!important` here to be able to override the default hidden behavior on the sphinx rendered scikit-learn.org. See: https://github.com/scikit-learn/scikit-learn/issues/21755 */display: inline-block !important;position: relative;}#sk-container-id-15 div.sk-text-repr-fallback {display: none;}</style><div id=\"sk-container-id-15\" class=\"sk-top-container\"><div class=\"sk-text-repr-fallback\"><pre>MultinomialNB(alpha=0.01)</pre><b>In a Jupyter environment, please rerun this cell to show the HTML representation or trust the notebook. <br />On GitHub, the HTML representation is unable to render, please try loading this page with nbviewer.org.</b></div><div class=\"sk-container\" hidden><div class=\"sk-item\"><div class=\"sk-estimator sk-toggleable\"><input class=\"sk-toggleable__control sk-hidden--visually\" id=\"sk-estimator-id-15\" type=\"checkbox\" checked><label for=\"sk-estimator-id-15\" class=\"sk-toggleable__label sk-toggleable__label-arrow\">MultinomialNB</label><div class=\"sk-toggleable__content\"><pre>MultinomialNB(alpha=0.01)</pre></div></div></div></div></div>"
      ],
      "text/plain": [
       "MultinomialNB(alpha=0.01)"
      ]
     },
     "execution_count": 258,
     "metadata": {},
     "output_type": "execute_result"
    }
   ],
   "source": [
    "# run naive Bayes \n",
    "delays_nb = MultinomialNB(alpha=0.01)\n",
    "delays_nb.fit(X_train, y_train)"
   ]
  },
  {
   "cell_type": "code",
   "execution_count": 259,
   "id": "30c76574-8cc6-4141-875e-ef64f63a56bc",
   "metadata": {},
   "outputs": [],
   "source": [
    "#predict class membership\n",
    "y_train_pred = delays_nb.predict(X_train)\n",
    "y_valid_pred = delays_nb.predict(X_valid)"
   ]
  },
  {
   "cell_type": "code",
   "execution_count": 260,
   "id": "cfa00aee-8094-45fb-996b-bc6e09be32ef",
   "metadata": {},
   "outputs": [
    {
     "name": "stdout",
     "output_type": "stream",
     "text": [
      "Confusion Matrix (Accuracy 0.5370)\n",
      "\n",
      "       Prediction\n",
      "Actual   no  yes\n",
      "    no 4754 7638\n",
      "   yes 4079 8838\n",
      "\n",
      "\n",
      "Confusion Matrix (Accuracy 0.5321)\n",
      "\n",
      "       Prediction\n",
      "Actual   no  yes\n",
      "    no 3130 5199\n",
      "   yes 2696 5849\n"
     ]
    }
   ],
   "source": [
    "# training \n",
    "classificationSummary(y_train, y_train_pred, class_names=classes)\n",
    "print('\\n')\n",
    "\n",
    "# validation\n",
    "classificationSummary(y_valid, y_valid_pred, class_names=classes)"
   ]
  },
  {
   "cell_type": "markdown",
   "id": "0a8b8528-a6ec-461c-95ed-b96d31782a67",
   "metadata": {},
   "source": [
    "###### iii. What is the overall error for the validation set?"
   ]
  },
  {
   "cell_type": "code",
   "execution_count": 261,
   "id": "14469453-ed0c-416f-aa39-b0aa20db4f6c",
   "metadata": {},
   "outputs": [
    {
     "name": "stdout",
     "output_type": "stream",
     "text": [
      "0.4679\n"
     ]
    }
   ],
   "source": [
    "#overall error = (false positive + false negative) / (true positive + false positive + true negative + false negative)\n",
    "# or\n",
    "#overall error = 1 - Accuracy\n",
    "\n",
    "overall_error = (5199 + 2696)/(3130 + 2696 + 5849 + 5199)\n",
    "print(round(overall_error, 4))"
   ]
  },
  {
   "cell_type": "markdown",
   "id": "268d6cb3-5787-44f5-9fc9-ddc37896d2a6",
   "metadata": {},
   "source": [
    "###### iv. What is the percent improvement relative to the naive rule (using the validation set)?"
   ]
  },
  {
   "cell_type": "markdown",
   "id": "78fcf10a-be14-46c7-8627-9c837542bcd7",
   "metadata": {},
   "source": [
    "Calculating P(INJURY = Yes) and P(INJURY = No) using naive rule on validation set"
   ]
  },
  {
   "cell_type": "code",
   "execution_count": 262,
   "id": "87f589cf-881c-4e26-9145-c340002707dc",
   "metadata": {},
   "outputs": [
    {
     "name": "stdout",
     "output_type": "stream",
     "text": [
      "Total Accidents:  16874\n",
      "Count of INJURY(INJURY = 'yes') 8545\n",
      "Count of INJURY(INJURY = 'no') 8329\n"
     ]
    }
   ],
   "source": [
    "count_total_accidents = len(y_valid)\n",
    "count_injury_yes = y_valid.value_counts()['yes']\n",
    "count_injury_no = y_valid.value_counts()['no'] \n",
    "\n",
    "print('Total Accidents: ', count_total_accidents)\n",
    "print(\"Count of INJURY(INJURY = 'yes')\", count_injury_yes)\n",
    "print(\"Count of INJURY(INJURY = 'no')\", count_injury_no)"
   ]
  },
  {
   "cell_type": "code",
   "execution_count": 263,
   "id": "fd038581-12ec-4cf5-9811-2da2228574c7",
   "metadata": {},
   "outputs": [
    {
     "name": "stdout",
     "output_type": "stream",
     "text": [
      "P(INJURY = yes): 0.5064003792817352\n",
      "P(INJURY = no): 0.4935996207182648\n"
     ]
    }
   ],
   "source": [
    "prob_injury_yes = count_injury_yes/count_total_accidents\n",
    "prob_injury_no = count_injury_no/count_total_accidents\n",
    "\n",
    "print('P(INJURY = yes):', prob_injury_yes)\n",
    "print('P(INJURY = no):', prob_injury_no)"
   ]
  },
  {
   "cell_type": "markdown",
   "id": "8060e2df-e590-45d5-a7ee-c45593aea256",
   "metadata": {},
   "source": [
    "We know, the naive rule is a simple classification strategy that assigns all observations to the majority class, regardless of the values of the predictors. From above calculation we can see P(INJURY = yes) is higher than P(INJURY = no). Since P(INJURY = yes) is a majority class here, all the observations will be predicted as INJURY = Yes. Let's calculate the classification error from naive rule. "
   ]
  },
  {
   "cell_type": "code",
   "execution_count": 264,
   "id": "d8a3ecb1-c843-4445-9ec6-e84b404843ff",
   "metadata": {},
   "outputs": [],
   "source": [
    "value = 'yes'\n",
    "y_valid_pred_naive = pd.Series(value, index=range(len(y_valid)))"
   ]
  },
  {
   "cell_type": "code",
   "execution_count": 265,
   "id": "f8abe8c4-a85f-4234-b1f1-283d4ae41875",
   "metadata": {},
   "outputs": [
    {
     "name": "stdout",
     "output_type": "stream",
     "text": [
      "Confusion Matrix (Accuracy 0.5064)\n",
      "\n",
      "       Prediction\n",
      "Actual   no  yes\n",
      "    no    0 8329\n",
      "   yes    0 8545\n"
     ]
    }
   ],
   "source": [
    "# classification summary on classification using naive rule\n",
    "classificationSummary(y_valid, y_valid_pred_naive, class_names=classes)"
   ]
  },
  {
   "cell_type": "code",
   "execution_count": 266,
   "id": "c042ef83-e260-46aa-aace-d6e8eb3ad07c",
   "metadata": {},
   "outputs": [
    {
     "name": "stdout",
     "output_type": "stream",
     "text": [
      "0.4936\n"
     ]
    }
   ],
   "source": [
    "#overall error = 1 - Accuracy\n",
    "error_naive = 1 - 0.5064\n",
    "print(round(error_naive, 4))"
   ]
  },
  {
   "cell_type": "code",
   "execution_count": 267,
   "id": "963b69a1-1c64-4ef0-9fe7-bfe52738527a",
   "metadata": {},
   "outputs": [
    {
     "name": "stdout",
     "output_type": "stream",
     "text": [
      "Percent improvement relative to the naive rule (using the validation set):  0.0005\n"
     ]
    }
   ],
   "source": [
    "#percent improvement = (error_naive - error_classifier) / error_naive * 100\n",
    "percent_improvement = (error_naive - overall_error) / (error_naive * 100)\n",
    "print('Percent improvement relative to the naive rule (using the validation set): ', round(percent_improvement, 4))"
   ]
  },
  {
   "cell_type": "markdown",
   "id": "a01370c9-7cdf-48e0-905c-745f99625062",
   "metadata": {},
   "source": [
    "###### v. Examine the conditional probabilities in the pivot tables. Why do we get a probability of zero for P(INJURY = No | SPD_LIM = 5)?"
   ]
  },
  {
   "cell_type": "code",
   "execution_count": 268,
   "id": "b53975a7-4951-4616-853b-32e76f10a94c",
   "metadata": {},
   "outputs": [
    {
     "data": {
      "text/html": [
       "<div>\n",
       "<style scoped>\n",
       "    .dataframe tbody tr th:only-of-type {\n",
       "        vertical-align: middle;\n",
       "    }\n",
       "\n",
       "    .dataframe tbody tr th {\n",
       "        vertical-align: top;\n",
       "    }\n",
       "\n",
       "    .dataframe thead th {\n",
       "        text-align: right;\n",
       "    }\n",
       "</style>\n",
       "<table border=\"1\" class=\"dataframe\">\n",
       "  <thead>\n",
       "    <tr style=\"text-align: right;\">\n",
       "      <th>INJURY</th>\n",
       "      <th>no</th>\n",
       "      <th>yes</th>\n",
       "    </tr>\n",
       "    <tr>\n",
       "      <th>SPD_LIM</th>\n",
       "      <th></th>\n",
       "      <th></th>\n",
       "    </tr>\n",
       "  </thead>\n",
       "  <tbody>\n",
       "    <tr>\n",
       "      <th>5</th>\n",
       "      <td>2</td>\n",
       "      <td>4</td>\n",
       "    </tr>\n",
       "    <tr>\n",
       "      <th>10</th>\n",
       "      <td>11</td>\n",
       "      <td>11</td>\n",
       "    </tr>\n",
       "    <tr>\n",
       "      <th>15</th>\n",
       "      <td>93</td>\n",
       "      <td>90</td>\n",
       "    </tr>\n",
       "    <tr>\n",
       "      <th>20</th>\n",
       "      <td>159</td>\n",
       "      <td>92</td>\n",
       "    </tr>\n",
       "    <tr>\n",
       "      <th>25</th>\n",
       "      <td>2245</td>\n",
       "      <td>1960</td>\n",
       "    </tr>\n",
       "    <tr>\n",
       "      <th>30</th>\n",
       "      <td>1807</td>\n",
       "      <td>1908</td>\n",
       "    </tr>\n",
       "    <tr>\n",
       "      <th>35</th>\n",
       "      <td>3994</td>\n",
       "      <td>4547</td>\n",
       "    </tr>\n",
       "    <tr>\n",
       "      <th>40</th>\n",
       "      <td>1978</td>\n",
       "      <td>2326</td>\n",
       "    </tr>\n",
       "    <tr>\n",
       "      <th>45</th>\n",
       "      <td>3240</td>\n",
       "      <td>3347</td>\n",
       "    </tr>\n",
       "    <tr>\n",
       "      <th>50</th>\n",
       "      <td>844</td>\n",
       "      <td>821</td>\n",
       "    </tr>\n",
       "    <tr>\n",
       "      <th>55</th>\n",
       "      <td>3306</td>\n",
       "      <td>3288</td>\n",
       "    </tr>\n",
       "    <tr>\n",
       "      <th>60</th>\n",
       "      <td>727</td>\n",
       "      <td>931</td>\n",
       "    </tr>\n",
       "    <tr>\n",
       "      <th>65</th>\n",
       "      <td>1371</td>\n",
       "      <td>1344</td>\n",
       "    </tr>\n",
       "    <tr>\n",
       "      <th>70</th>\n",
       "      <td>818</td>\n",
       "      <td>636</td>\n",
       "    </tr>\n",
       "    <tr>\n",
       "      <th>75</th>\n",
       "      <td>126</td>\n",
       "      <td>157</td>\n",
       "    </tr>\n",
       "  </tbody>\n",
       "</table>\n",
       "</div>"
      ],
      "text/plain": [
       "INJURY     no   yes\n",
       "SPD_LIM            \n",
       "5           2     4\n",
       "10         11    11\n",
       "15         93    90\n",
       "20        159    92\n",
       "25       2245  1960\n",
       "30       1807  1908\n",
       "35       3994  4547\n",
       "40       1978  2326\n",
       "45       3240  3347\n",
       "50        844   821\n",
       "55       3306  3288\n",
       "60        727   931\n",
       "65       1371  1344\n",
       "70        818   636\n",
       "75        126   157"
      ]
     },
     "metadata": {},
     "output_type": "display_data"
    }
   ],
   "source": [
    "temp_df = df[['SPD_LIM', 'INJURY']]\n",
    "pivot_table = temp_df.pivot_table(index='SPD_LIM', columns=['INJURY'], aggfunc='size')\n",
    "display(pivot_table)"
   ]
  },
  {
   "cell_type": "code",
   "execution_count": 269,
   "id": "86da4872-179a-4290-a129-8bcba65a10f4",
   "metadata": {},
   "outputs": [
    {
     "name": "stdout",
     "output_type": "stream",
     "text": [
      "P(INJURY = No | SPD_LIM = 5) =  0.3333\n"
     ]
    }
   ],
   "source": [
    "print('P(INJURY = No | SPD_LIM = 5) = ', round(2/6,4))"
   ]
  },
  {
   "cell_type": "markdown",
   "id": "fc12783d-ef88-4d9b-93e6-b3f836014b26",
   "metadata": {},
   "source": [
    "We will get a probability of zero for P(INJURY = No | SPD_LIM = 5) if there were no cases in the data where the speed limit is 5 and the injury is no. However, in our case, with data in hand, we do have cases with injury = no where speed limit is 5, therefore, our P(INJURY = No | SPD_LIM = 5) is not zero."
   ]
  },
  {
   "cell_type": "code",
   "execution_count": null,
   "id": "260fee6a-c080-4d40-a74d-69da99e7b901",
   "metadata": {},
   "outputs": [],
   "source": []
  }
 ],
 "metadata": {
  "kernelspec": {
   "display_name": "Python 3 (ipykernel)",
   "language": "python",
   "name": "python3"
  },
  "language_info": {
   "codemirror_mode": {
    "name": "ipython",
    "version": 3
   },
   "file_extension": ".py",
   "mimetype": "text/x-python",
   "name": "python",
   "nbconvert_exporter": "python",
   "pygments_lexer": "ipython3",
   "version": "3.10.9"
  }
 },
 "nbformat": 4,
 "nbformat_minor": 5
}
