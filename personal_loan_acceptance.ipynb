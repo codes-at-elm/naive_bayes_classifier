{
 "cells": [
  {
   "cell_type": "markdown",
   "id": "322904b8-235f-4614-a073-be2a26b0ab31",
   "metadata": {},
   "source": [
    "# Naive Bayes Classifier - Personal Loan Acceptance"
   ]
  },
  {
   "cell_type": "markdown",
   "id": "05f8b3d0-d18a-46b7-bbf3-10f9f8cff86c",
   "metadata": {},
   "source": [
    "This program is a solution to the problem 8.1 of chapter 8 of following book. \n",
    "\n",
    "Data Mining for Business Analytics: Concepts, Techniques, and Applications in Python, First Edition.\n",
    "\n",
    "Galit Shmueli, Peter C. Bruce, Peter Gedeck, and Nitin R. Patel\n",
    "\n",
    "© 2020 John Wiley & Sons, Inc. Published 2020 by John Wiley & Sons, Inc."
   ]
  },
  {
   "cell_type": "markdown",
   "id": "f1941c5c-a90e-436a-b433-2f36054254ed",
   "metadata": {},
   "source": [
    "##  Chapter 8, Problem 8.1"
   ]
  },
  {
   "cell_type": "markdown",
   "id": "954d427e-0eb8-481c-a0f8-57cae37367b5",
   "metadata": {},
   "source": [
    "Personal Loan Acceptance. The file UniversalBank.csv contains data on 5000 customers of Universal Bank. The data include customer demographic information (age, income, etc.), the customer’s relationship with the bank (mortgage, securities account, etc.), and the customer response to the last personal loan campaign (Personal Loan). Among these 5000 customers, only 480 (=9.6%) accepted the personal loan that was offered to them in the earlier campaign. In this exercise, we focus on two predictors: Online (whether or not the customer is an active user of online banking services) and Credit Card (abbreviated CC below) (does the customer hold a credit card issued by the bank), and the outcome Personal Loan (abbreviated Loan below). Partition the data into training (60%) and validation (40%) sets.\n",
    "\n",
    "a. Create a pivot table for the training data with Online as a column variable, CC as a row variable, and Loan as a secondary row variable. The values inside the table should convey the count. Use the pandas dataframe methods melt() and pivot().\n",
    "\n",
    "b. Consider the task of classifying a customer who owns a bank credit card and is actively using online banking services. Looking at the pivot table, what is the probability that this customer will accept the loan offer? [This is the probability of loan acceptance (Loan = 1) conditional on having a bank credit card (CC = 1) and being an active user of online banking services (Online = 1).]\n",
    "\n",
    "c. Create two separate pivot tables for the training data. One will have Loan (rows) as a function of Online (columns) and the other will have Loan (rows) as a function of CC.\n",
    "\n",
    "d. Compute the following quantities [P(A | B) means “the probability of A given B”]: \n",
    "\n",
    "    i. P(CC = 1 | Loan = 1) (the proportion of credit card holders among the loan acceptors)\n",
    "\n",
    "    ii. P(Online = 1 | Loan = 1) \n",
    "\n",
    "    iii. P(Loan = 1) (the proportion of loan acceptors)\n",
    "\n",
    "    iv. P(CC = 1 | Loan = 0)\n",
    "\n",
    "    v. P(Online = 1 | Loan = 0)\n",
    "\n",
    "    vi. P(Loan = 0)\n",
    "\n",
    "e. Use the quantities computed above to compute the naive Bayes probability P(Loan = 1 | CC = 1, Online = 1).\n",
    "\n",
    "f. Compare this value with the one obtained from the pivot table in (b). Which is a more accurate estimate?\n",
    "\n",
    "g. Which of the entries in this table are needed for computing P(Loan = 1 | CC = 1, Online = 1)? In Python, run naive Bayes on the data. Examine the model output on training data, and find the entry that corresponds to P(Loan = 1 | CC = 1, Online = 1). Compare this to the number you obtained in (e)."
   ]
  },
  {
   "cell_type": "markdown",
   "id": "6ccc85ce-cefd-47cb-9bf6-ceedd05cd9b9",
   "metadata": {},
   "source": [
    "## Importing Libraries"
   ]
  },
  {
   "cell_type": "code",
   "execution_count": 89,
   "id": "8d14c255-a0e5-48b5-868a-4af76c4e9ccd",
   "metadata": {},
   "outputs": [],
   "source": [
    "import pandas as pd\n",
    "import sklearn\n",
    "from sklearn.model_selection import train_test_split\n",
    "from sklearn.naive_bayes import MultinomialNB"
   ]
  },
  {
   "cell_type": "markdown",
   "id": "131699bb-70d5-4b26-b8c4-a8c244b60bdd",
   "metadata": {},
   "source": [
    "Printing versions of libraries"
   ]
  },
  {
   "cell_type": "code",
   "execution_count": 90,
   "id": "5a8fbe2d-110f-42dc-8d36-f7b978d1721a",
   "metadata": {},
   "outputs": [
    {
     "name": "stdout",
     "output_type": "stream",
     "text": [
      "pandas version: 1.5.3\n",
      "sklearn version: 1.2.1\n"
     ]
    }
   ],
   "source": [
    "print('pandas version: {}'.format(pd.__version__))\n",
    "print('sklearn version: {}'.format(sklearn.__version__))"
   ]
  },
  {
   "cell_type": "markdown",
   "id": "e9dfd6b9-e6a4-4293-9ba2-5bea23635e51",
   "metadata": {},
   "source": [
    "## Loading Dataset"
   ]
  },
  {
   "cell_type": "code",
   "execution_count": 91,
   "id": "196a04a6-2d74-446e-9770-c17f756a2cf1",
   "metadata": {},
   "outputs": [
    {
     "data": {
      "text/html": [
       "<div>\n",
       "<style scoped>\n",
       "    .dataframe tbody tr th:only-of-type {\n",
       "        vertical-align: middle;\n",
       "    }\n",
       "\n",
       "    .dataframe tbody tr th {\n",
       "        vertical-align: top;\n",
       "    }\n",
       "\n",
       "    .dataframe thead th {\n",
       "        text-align: right;\n",
       "    }\n",
       "</style>\n",
       "<table border=\"1\" class=\"dataframe\">\n",
       "  <thead>\n",
       "    <tr style=\"text-align: right;\">\n",
       "      <th></th>\n",
       "      <th>ID</th>\n",
       "      <th>Age</th>\n",
       "      <th>Experience</th>\n",
       "      <th>Income</th>\n",
       "      <th>ZIP Code</th>\n",
       "      <th>Family</th>\n",
       "      <th>CCAvg</th>\n",
       "      <th>Education</th>\n",
       "      <th>Mortgage</th>\n",
       "      <th>Personal Loan</th>\n",
       "      <th>Securities Account</th>\n",
       "      <th>CD Account</th>\n",
       "      <th>Online</th>\n",
       "      <th>CreditCard</th>\n",
       "    </tr>\n",
       "  </thead>\n",
       "  <tbody>\n",
       "    <tr>\n",
       "      <th>0</th>\n",
       "      <td>1</td>\n",
       "      <td>25</td>\n",
       "      <td>1</td>\n",
       "      <td>49</td>\n",
       "      <td>91107</td>\n",
       "      <td>4</td>\n",
       "      <td>1.6</td>\n",
       "      <td>1</td>\n",
       "      <td>0</td>\n",
       "      <td>0</td>\n",
       "      <td>1</td>\n",
       "      <td>0</td>\n",
       "      <td>0</td>\n",
       "      <td>0</td>\n",
       "    </tr>\n",
       "    <tr>\n",
       "      <th>1</th>\n",
       "      <td>2</td>\n",
       "      <td>45</td>\n",
       "      <td>19</td>\n",
       "      <td>34</td>\n",
       "      <td>90089</td>\n",
       "      <td>3</td>\n",
       "      <td>1.5</td>\n",
       "      <td>1</td>\n",
       "      <td>0</td>\n",
       "      <td>0</td>\n",
       "      <td>1</td>\n",
       "      <td>0</td>\n",
       "      <td>0</td>\n",
       "      <td>0</td>\n",
       "    </tr>\n",
       "    <tr>\n",
       "      <th>2</th>\n",
       "      <td>3</td>\n",
       "      <td>39</td>\n",
       "      <td>15</td>\n",
       "      <td>11</td>\n",
       "      <td>94720</td>\n",
       "      <td>1</td>\n",
       "      <td>1.0</td>\n",
       "      <td>1</td>\n",
       "      <td>0</td>\n",
       "      <td>0</td>\n",
       "      <td>0</td>\n",
       "      <td>0</td>\n",
       "      <td>0</td>\n",
       "      <td>0</td>\n",
       "    </tr>\n",
       "    <tr>\n",
       "      <th>3</th>\n",
       "      <td>4</td>\n",
       "      <td>35</td>\n",
       "      <td>9</td>\n",
       "      <td>100</td>\n",
       "      <td>94112</td>\n",
       "      <td>1</td>\n",
       "      <td>2.7</td>\n",
       "      <td>2</td>\n",
       "      <td>0</td>\n",
       "      <td>0</td>\n",
       "      <td>0</td>\n",
       "      <td>0</td>\n",
       "      <td>0</td>\n",
       "      <td>0</td>\n",
       "    </tr>\n",
       "    <tr>\n",
       "      <th>4</th>\n",
       "      <td>5</td>\n",
       "      <td>35</td>\n",
       "      <td>8</td>\n",
       "      <td>45</td>\n",
       "      <td>91330</td>\n",
       "      <td>4</td>\n",
       "      <td>1.0</td>\n",
       "      <td>2</td>\n",
       "      <td>0</td>\n",
       "      <td>0</td>\n",
       "      <td>0</td>\n",
       "      <td>0</td>\n",
       "      <td>0</td>\n",
       "      <td>1</td>\n",
       "    </tr>\n",
       "  </tbody>\n",
       "</table>\n",
       "</div>"
      ],
      "text/plain": [
       "   ID  Age  Experience  Income  ZIP Code  Family  CCAvg  Education  Mortgage  \\\n",
       "0   1   25           1      49     91107       4    1.6          1         0   \n",
       "1   2   45          19      34     90089       3    1.5          1         0   \n",
       "2   3   39          15      11     94720       1    1.0          1         0   \n",
       "3   4   35           9     100     94112       1    2.7          2         0   \n",
       "4   5   35           8      45     91330       4    1.0          2         0   \n",
       "\n",
       "   Personal Loan  Securities Account  CD Account  Online  CreditCard  \n",
       "0              0                   1           0       0           0  \n",
       "1              0                   1           0       0           0  \n",
       "2              0                   0           0       0           0  \n",
       "3              0                   0           0       0           0  \n",
       "4              0                   0           0       0           1  "
      ]
     },
     "execution_count": 91,
     "metadata": {},
     "output_type": "execute_result"
    }
   ],
   "source": [
    "df = pd.read_csv('UniversalBank.csv')\n",
    "df.head()"
   ]
  },
  {
   "cell_type": "markdown",
   "id": "841f8b82-b670-43cd-be40-6a08105b3029",
   "metadata": {},
   "source": [
    "Converting to categorical\n",
    "\n",
    "In this excercise we are concerned with only three variable, Online, CreditCard and Personal Loan. Therefore, we will convert these variables to categorical. "
   ]
  },
  {
   "cell_type": "code",
   "execution_count": 92,
   "id": "f8ed83d6-6b06-4b6d-9332-32e4a6d01bed",
   "metadata": {},
   "outputs": [],
   "source": [
    "df.Online = df.Online.astype('category')\n",
    "df.CreditCard = df.CreditCard.astype('category')\n",
    "df['Personal Loan'] = df['Personal Loan'].astype('category')"
   ]
  },
  {
   "cell_type": "markdown",
   "id": "480169df-96e2-4879-a314-8699cbbf08db",
   "metadata": {},
   "source": [
    "## Partitioning Data"
   ]
  },
  {
   "cell_type": "markdown",
   "id": "ee2a507a-1404-4492-9b60-44b7a1ea485d",
   "metadata": {},
   "source": [
    "Partitioning the data into training (60%) and validation (40%) data."
   ]
  },
  {
   "cell_type": "code",
   "execution_count": 93,
   "id": "fe589ec3-09f0-4817-877f-25c29006d273",
   "metadata": {},
   "outputs": [
    {
     "data": {
      "text/html": [
       "<div>\n",
       "<style scoped>\n",
       "    .dataframe tbody tr th:only-of-type {\n",
       "        vertical-align: middle;\n",
       "    }\n",
       "\n",
       "    .dataframe tbody tr th {\n",
       "        vertical-align: top;\n",
       "    }\n",
       "\n",
       "    .dataframe thead th {\n",
       "        text-align: right;\n",
       "    }\n",
       "</style>\n",
       "<table border=\"1\" class=\"dataframe\">\n",
       "  <thead>\n",
       "    <tr style=\"text-align: right;\">\n",
       "      <th></th>\n",
       "      <th>CreditCard</th>\n",
       "      <th>Personal Loan</th>\n",
       "      <th>Online</th>\n",
       "    </tr>\n",
       "  </thead>\n",
       "  <tbody>\n",
       "    <tr>\n",
       "      <th>4522</th>\n",
       "      <td>0</td>\n",
       "      <td>0</td>\n",
       "      <td>0</td>\n",
       "    </tr>\n",
       "    <tr>\n",
       "      <th>2851</th>\n",
       "      <td>0</td>\n",
       "      <td>0</td>\n",
       "      <td>1</td>\n",
       "    </tr>\n",
       "    <tr>\n",
       "      <th>2313</th>\n",
       "      <td>1</td>\n",
       "      <td>0</td>\n",
       "      <td>1</td>\n",
       "    </tr>\n",
       "    <tr>\n",
       "      <th>982</th>\n",
       "      <td>1</td>\n",
       "      <td>0</td>\n",
       "      <td>0</td>\n",
       "    </tr>\n",
       "    <tr>\n",
       "      <th>1164</th>\n",
       "      <td>0</td>\n",
       "      <td>1</td>\n",
       "      <td>1</td>\n",
       "    </tr>\n",
       "  </tbody>\n",
       "</table>\n",
       "</div>"
      ],
      "text/plain": [
       "     CreditCard Personal Loan Online\n",
       "4522          0             0      0\n",
       "2851          0             0      1\n",
       "2313          1             0      1\n",
       "982           1             0      0\n",
       "1164          0             1      1"
      ]
     },
     "metadata": {},
     "output_type": "display_data"
    }
   ],
   "source": [
    "# split the original data frame into a train and test using same random_state\n",
    "train_df, valid_df = train_test_split(df[['CreditCard', 'Personal Loan', 'Online']], test_size=0.4, random_state = 1)\n",
    "display(train_df.head())"
   ]
  },
  {
   "cell_type": "markdown",
   "id": "1e92d436-8159-4540-bbcf-8b9c79a1c62c",
   "metadata": {},
   "source": [
    "## Create a pivot table for the training data"
   ]
  },
  {
   "cell_type": "markdown",
   "id": "6cd22fec-59a4-4773-a225-4ec362e0f112",
   "metadata": {},
   "source": [
    "##### a. Creating a pivot table for the training data with Online as a column variable, CC as a row variable, and Loan as a secondary row variable. The values inside the table will convey the count. Using the pandas dataframe methods melt() and pivot()."
   ]
  },
  {
   "cell_type": "code",
   "execution_count": 94,
   "id": "cdab466e-1eb0-40de-aed6-40742dbcb7f1",
   "metadata": {},
   "outputs": [
    {
     "data": {
      "text/html": [
       "<div>\n",
       "<style scoped>\n",
       "    .dataframe tbody tr th:only-of-type {\n",
       "        vertical-align: middle;\n",
       "    }\n",
       "\n",
       "    .dataframe tbody tr th {\n",
       "        vertical-align: top;\n",
       "    }\n",
       "\n",
       "    .dataframe thead th {\n",
       "        text-align: right;\n",
       "    }\n",
       "</style>\n",
       "<table border=\"1\" class=\"dataframe\">\n",
       "  <thead>\n",
       "    <tr style=\"text-align: right;\">\n",
       "      <th></th>\n",
       "      <th>CreditCard</th>\n",
       "      <th>Personal Loan</th>\n",
       "      <th>Online</th>\n",
       "      <th>Count</th>\n",
       "    </tr>\n",
       "  </thead>\n",
       "  <tbody>\n",
       "    <tr>\n",
       "      <th>0</th>\n",
       "      <td>0</td>\n",
       "      <td>0</td>\n",
       "      <td>Online</td>\n",
       "      <td>0</td>\n",
       "    </tr>\n",
       "    <tr>\n",
       "      <th>1</th>\n",
       "      <td>0</td>\n",
       "      <td>0</td>\n",
       "      <td>Online</td>\n",
       "      <td>1</td>\n",
       "    </tr>\n",
       "    <tr>\n",
       "      <th>2</th>\n",
       "      <td>1</td>\n",
       "      <td>0</td>\n",
       "      <td>Online</td>\n",
       "      <td>1</td>\n",
       "    </tr>\n",
       "    <tr>\n",
       "      <th>3</th>\n",
       "      <td>1</td>\n",
       "      <td>0</td>\n",
       "      <td>Online</td>\n",
       "      <td>0</td>\n",
       "    </tr>\n",
       "    <tr>\n",
       "      <th>4</th>\n",
       "      <td>0</td>\n",
       "      <td>1</td>\n",
       "      <td>Online</td>\n",
       "      <td>1</td>\n",
       "    </tr>\n",
       "    <tr>\n",
       "      <th>...</th>\n",
       "      <td>...</td>\n",
       "      <td>...</td>\n",
       "      <td>...</td>\n",
       "      <td>...</td>\n",
       "    </tr>\n",
       "    <tr>\n",
       "      <th>2995</th>\n",
       "      <td>0</td>\n",
       "      <td>0</td>\n",
       "      <td>Online</td>\n",
       "      <td>1</td>\n",
       "    </tr>\n",
       "    <tr>\n",
       "      <th>2996</th>\n",
       "      <td>0</td>\n",
       "      <td>0</td>\n",
       "      <td>Online</td>\n",
       "      <td>1</td>\n",
       "    </tr>\n",
       "    <tr>\n",
       "      <th>2997</th>\n",
       "      <td>1</td>\n",
       "      <td>0</td>\n",
       "      <td>Online</td>\n",
       "      <td>1</td>\n",
       "    </tr>\n",
       "    <tr>\n",
       "      <th>2998</th>\n",
       "      <td>0</td>\n",
       "      <td>0</td>\n",
       "      <td>Online</td>\n",
       "      <td>1</td>\n",
       "    </tr>\n",
       "    <tr>\n",
       "      <th>2999</th>\n",
       "      <td>0</td>\n",
       "      <td>0</td>\n",
       "      <td>Online</td>\n",
       "      <td>1</td>\n",
       "    </tr>\n",
       "  </tbody>\n",
       "</table>\n",
       "<p>3000 rows × 4 columns</p>\n",
       "</div>"
      ],
      "text/plain": [
       "     CreditCard Personal Loan  Online  Count\n",
       "0             0             0  Online      0\n",
       "1             0             0  Online      1\n",
       "2             1             0  Online      1\n",
       "3             1             0  Online      0\n",
       "4             0             1  Online      1\n",
       "...         ...           ...     ...    ...\n",
       "2995          0             0  Online      1\n",
       "2996          0             0  Online      1\n",
       "2997          1             0  Online      1\n",
       "2998          0             0  Online      1\n",
       "2999          0             0  Online      1\n",
       "\n",
       "[3000 rows x 4 columns]"
      ]
     },
     "metadata": {},
     "output_type": "display_data"
    },
    {
     "data": {
      "text/html": [
       "<div>\n",
       "<style scoped>\n",
       "    .dataframe tbody tr th:only-of-type {\n",
       "        vertical-align: middle;\n",
       "    }\n",
       "\n",
       "    .dataframe tbody tr th {\n",
       "        vertical-align: top;\n",
       "    }\n",
       "\n",
       "    .dataframe thead th {\n",
       "        text-align: right;\n",
       "    }\n",
       "</style>\n",
       "<table border=\"1\" class=\"dataframe\">\n",
       "  <thead>\n",
       "    <tr style=\"text-align: right;\">\n",
       "      <th></th>\n",
       "      <th>Online</th>\n",
       "      <th>Online</th>\n",
       "    </tr>\n",
       "    <tr>\n",
       "      <th>CreditCard</th>\n",
       "      <th>Personal Loan</th>\n",
       "      <th></th>\n",
       "    </tr>\n",
       "  </thead>\n",
       "  <tbody>\n",
       "    <tr>\n",
       "      <th rowspan=\"2\" valign=\"top\">0</th>\n",
       "      <th>0</th>\n",
       "      <td>1117</td>\n",
       "    </tr>\n",
       "    <tr>\n",
       "      <th>1</th>\n",
       "      <td>126</td>\n",
       "    </tr>\n",
       "    <tr>\n",
       "      <th rowspan=\"2\" valign=\"top\">1</th>\n",
       "      <th>0</th>\n",
       "      <td>477</td>\n",
       "    </tr>\n",
       "    <tr>\n",
       "      <th>1</th>\n",
       "      <td>49</td>\n",
       "    </tr>\n",
       "  </tbody>\n",
       "</table>\n",
       "</div>"
      ],
      "text/plain": [
       "Online                    Online\n",
       "CreditCard Personal Loan        \n",
       "0          0                1117\n",
       "           1                 126\n",
       "1          0                 477\n",
       "           1                  49"
      ]
     },
     "metadata": {},
     "output_type": "display_data"
    }
   ],
   "source": [
    "# Melt the dataframe to have a single column for each variable\n",
    "train_df_melted = train_df.melt(id_vars=['CreditCard', 'Personal Loan'], var_name='Online', value_name='Count')\n",
    "display(train_df_melted)\n",
    "\n",
    "# Pivot the melted dataframe to create the desired table\n",
    "train_df_pivoted = train_df_melted.pivot_table(index=['CreditCard', 'Personal Loan'], columns='Online', values='Count', aggfunc='sum')\n",
    "# Display the pivot table\n",
    "display(train_df_pivoted)"
   ]
  },
  {
   "cell_type": "markdown",
   "id": "98add74a-7aca-4c5a-abc2-f96895e26adb",
   "metadata": {},
   "source": [
    "##### b. Considering the task of classifying a customer who owns a bank credit card and is actively using online banking services. Looking at the pivot table created above, calculating the probability that this customer will accept the loan offer. This is the probability of loan acceptance (Loan = 1) conditional on having a bank credit card (CC = 1) and being an active user of online banking services (Online = 1)."
   ]
  },
  {
   "cell_type": "code",
   "execution_count": 95,
   "id": "2970fa1c-20b4-4773-925c-e4f00c2665c1",
   "metadata": {},
   "outputs": [
    {
     "name": "stdout",
     "output_type": "stream",
     "text": [
      "526\n",
      "477\n",
      "49\n",
      "Probability: 0.09315589353612168\n"
     ]
    }
   ],
   "source": [
    "# I calculate following values only to make sure that above pivot table creation was correct.\n",
    "total_count = len(train_df[(train_df['CreditCard'] == 1) & (train_df['Online'] == 1)].index)\n",
    "print(total_count)\n",
    "personal_loan_n_count = len(train_df[(train_df['CreditCard'] == 1) & (train_df['Online'] == 1) & (train_df['Personal Loan'] == 0)].index)\n",
    "print(personal_loan_n_count)\n",
    "personal_loan_y_count = len(train_df[(train_df['CreditCard'] == 1) & (train_df['Online'] == 1) & (train_df['Personal Loan'] == 1)].index)\n",
    "print(personal_loan_y_count)\n",
    "\n",
    "# Calculating the probability that the customer mentioned above will accept the loan offer. \n",
    "# We know probability = (number of desired or successful outcomes)/(total number of possible outcomes). \n",
    "#Let's name 'number of desired or successful outcomes' as numerator and 'total number of possible outcomes' as denominator\n",
    "numerator = 49 # I got this value by observing above pivot table \n",
    "denoninator = 49 + 477 # I got this value by observing above pivot table\n",
    "probability = numerator/denoninator\n",
    "print('Probability:', probability)"
   ]
  },
  {
   "cell_type": "markdown",
   "id": "e6240372-ecf8-45de-b3df-1532972c12d2",
   "metadata": {},
   "source": [
    "Therefore, the probability that the customer will accept the loan offer is 0.09."
   ]
  },
  {
   "cell_type": "markdown",
   "id": "60baeb0c-8d49-49c0-9721-37c5095a244a",
   "metadata": {},
   "source": [
    "##### c. Creating two separate pivot tables for the training data. One will have Loan (rows) as a function of Online (columns) and the other will have Loan (rows) as a function of CC."
   ]
  },
  {
   "cell_type": "code",
   "execution_count": 96,
   "id": "0c1b1dce-9723-4284-a4ac-7b9617115726",
   "metadata": {},
   "outputs": [
    {
     "data": {
      "text/html": [
       "<div>\n",
       "<style scoped>\n",
       "    .dataframe tbody tr th:only-of-type {\n",
       "        vertical-align: middle;\n",
       "    }\n",
       "\n",
       "    .dataframe tbody tr th {\n",
       "        vertical-align: top;\n",
       "    }\n",
       "\n",
       "    .dataframe thead th {\n",
       "        text-align: right;\n",
       "    }\n",
       "</style>\n",
       "<table border=\"1\" class=\"dataframe\">\n",
       "  <thead>\n",
       "    <tr style=\"text-align: right;\">\n",
       "      <th>Online</th>\n",
       "      <th>Online</th>\n",
       "    </tr>\n",
       "    <tr>\n",
       "      <th>Personal Loan</th>\n",
       "      <th></th>\n",
       "    </tr>\n",
       "  </thead>\n",
       "  <tbody>\n",
       "    <tr>\n",
       "      <th>0</th>\n",
       "      <td>1594</td>\n",
       "    </tr>\n",
       "    <tr>\n",
       "      <th>1</th>\n",
       "      <td>175</td>\n",
       "    </tr>\n",
       "  </tbody>\n",
       "</table>\n",
       "</div>"
      ],
      "text/plain": [
       "Online         Online\n",
       "Personal Loan        \n",
       "0                1594\n",
       "1                 175"
      ]
     },
     "metadata": {},
     "output_type": "display_data"
    },
    {
     "name": "stdout",
     "output_type": "stream",
     "text": [
      "1594\n",
      "175\n"
     ]
    },
    {
     "data": {
      "text/html": [
       "<div>\n",
       "<style scoped>\n",
       "    .dataframe tbody tr th:only-of-type {\n",
       "        vertical-align: middle;\n",
       "    }\n",
       "\n",
       "    .dataframe tbody tr th {\n",
       "        vertical-align: top;\n",
       "    }\n",
       "\n",
       "    .dataframe thead th {\n",
       "        text-align: right;\n",
       "    }\n",
       "</style>\n",
       "<table border=\"1\" class=\"dataframe\">\n",
       "  <thead>\n",
       "    <tr style=\"text-align: right;\">\n",
       "      <th>CreditCard</th>\n",
       "      <th>CreditCard</th>\n",
       "    </tr>\n",
       "    <tr>\n",
       "      <th>Personal Loan</th>\n",
       "      <th></th>\n",
       "    </tr>\n",
       "  </thead>\n",
       "  <tbody>\n",
       "    <tr>\n",
       "      <th>0</th>\n",
       "      <td>804</td>\n",
       "    </tr>\n",
       "    <tr>\n",
       "      <th>1</th>\n",
       "      <td>88</td>\n",
       "    </tr>\n",
       "  </tbody>\n",
       "</table>\n",
       "</div>"
      ],
      "text/plain": [
       "CreditCard     CreditCard\n",
       "Personal Loan            \n",
       "0                     804\n",
       "1                      88"
      ]
     },
     "metadata": {},
     "output_type": "display_data"
    },
    {
     "name": "stdout",
     "output_type": "stream",
     "text": [
      "804\n",
      "88\n"
     ]
    }
   ],
   "source": [
    "train_df_melted_1 = train_df[['Personal Loan', 'Online']].melt(id_vars=['Personal Loan'], var_name='Online', value_name='Count')\n",
    "train_df_pivot_1 = train_df_melted_1.pivot_table(index=['Personal Loan'], columns='Online', values='Online', aggfunc='sum')\n",
    "display(train_df_pivot_1.head())\n",
    "\n",
    "# I calculate following only to see if pivot table creation was correct \n",
    "temp_df = train_df[['Personal Loan', 'Online']]\n",
    "print(len(temp_df[(temp_df['Personal Loan'] == 0) & (temp_df['Online'] == 1)].index))\n",
    "print(len(temp_df[(temp_df['Personal Loan'] == 1) & (temp_df['Online'] == 1)].index))\n",
    "\n",
    "train_df_melted_2 = train_df[['Personal Loan', 'CreditCard']].melt(id_vars=['Personal Loan'], var_name='CreditCard', value_name='Count')\n",
    "train_df_pivot_2 = train_df_melted_2.pivot_table(index=['Personal Loan'], columns='CreditCard', values='CreditCard', aggfunc='sum')\n",
    "display(train_df_pivot_2.head())\n",
    "\n",
    "# I calculate following only to see if pivot table creation was correct \n",
    "temp_df = train_df[['Personal Loan', 'CreditCard']]\n",
    "print(len(temp_df[(temp_df['Personal Loan'] == 0) & (temp_df['CreditCard'] == 1)].index))\n",
    "print(len(temp_df[(temp_df['Personal Loan'] == 1) & (temp_df['CreditCard'] == 1)].index))\n"
   ]
  },
  {
   "cell_type": "markdown",
   "id": "8d5953f1-30ce-46fc-87ba-3135b05fbdab",
   "metadata": {},
   "source": [
    "##### d. Computing the following quantities. [P(A | B) means “the probability of A given B”]:\n",
    "\n",
    "##### i. P(CC = 1 | Loan = 1) (the proportion of credit card holders among the loan acceptors)\n",
    "\n",
    "#####     ii. P(Online = 1 | Loan = 1)\n",
    "\n",
    "#####     iii. P(Loan = 1) (the proportion of loan acceptors)\n",
    "\n",
    "#####     iv. P(CC = 1 | Loan = 0)\n",
    "\n",
    "#####     v. P(Online = 1 | Loan = 0)\n",
    "\n",
    "#####     vi. P(Loan = 0)"
   ]
  },
  {
   "cell_type": "code",
   "execution_count": 97,
   "id": "7964ce94-e103-47f3-9734-b19d5e475ea4",
   "metadata": {},
   "outputs": [
    {
     "name": "stdout",
     "output_type": "stream",
     "text": [
      "P(CC = 1 | Loan = 1) (the proportion of credit card holders among the loan acceptors): 0.30662020905923343\n"
     ]
    }
   ],
   "source": [
    "#P(CC = 1 | Loan = 1) (the proportion of credit card holders among the loan acceptors)\n",
    "prob_CC_1_given_Loan_1 = len(train_df[(train_df['Personal Loan'] == 1) & (train_df['CreditCard'] == 1)].index)/len(train_df[(train_df['Personal Loan'] == 1)].index)\n",
    "print('P(CC = 1 | Loan = 1) (the proportion of credit card holders among the loan acceptors):', prob_CC_1_given_Loan_1)"
   ]
  },
  {
   "cell_type": "code",
   "execution_count": 98,
   "id": "5c632b89-ad9e-45ae-a709-8bb128a4b2c6",
   "metadata": {},
   "outputs": [
    {
     "name": "stdout",
     "output_type": "stream",
     "text": [
      "P(Online = 1 | Loan = 1): 0.6097560975609756\n"
     ]
    }
   ],
   "source": [
    "#P(Online = 1 | Loan = 1)\n",
    "prob_Online_1_given_Loan_1 = len(train_df[(train_df['Personal Loan'] == 1) & (train_df['Online'] == 1)].index)/len(train_df[(train_df['Personal Loan'] == 1)].index)\n",
    "print('P(Online = 1 | Loan = 1):', prob_Online_1_given_Loan_1)"
   ]
  },
  {
   "cell_type": "code",
   "execution_count": 99,
   "id": "34c56d08-2094-4861-a6c8-b7d3a2c81a67",
   "metadata": {},
   "outputs": [
    {
     "name": "stdout",
     "output_type": "stream",
     "text": [
      "P(Loan = 1) (the proportion of loan acceptors): 0.09566666666666666\n"
     ]
    }
   ],
   "source": [
    "#P(Loan = 1) (the proportion of loan acceptors)\n",
    "prob_Loan_1 = len(train_df[(train_df['Personal Loan'] == 1)].index)/len(train_df.index)\n",
    "print('P(Loan = 1) (the proportion of loan acceptors):', prob_Loan_1)"
   ]
  },
  {
   "cell_type": "code",
   "execution_count": 100,
   "id": "e17277a9-4e7d-455b-8002-e1c9b08cfe98",
   "metadata": {},
   "outputs": [
    {
     "name": "stdout",
     "output_type": "stream",
     "text": [
      "P(CC = 1 | Loan = 0): 0.2963509030593439\n"
     ]
    }
   ],
   "source": [
    "#P(CC = 1 | Loan = 0)\n",
    "prob_CC_1_given_Loan_0 = len(train_df[(train_df['Personal Loan'] == 0) & (train_df['CreditCard'] == 1)].index)/len(train_df[(train_df['Personal Loan'] == 0)].index)\n",
    "print('P(CC = 1 | Loan = 0):', prob_CC_1_given_Loan_0)"
   ]
  },
  {
   "cell_type": "code",
   "execution_count": 101,
   "id": "f3e59551-7322-47f6-980c-02d452922569",
   "metadata": {},
   "outputs": [
    {
     "name": "stdout",
     "output_type": "stream",
     "text": [
      "P(Online = 1 | Loan = 0): 0.5875414670106893\n"
     ]
    }
   ],
   "source": [
    "#P(Online = 1 | Loan = 0)\n",
    "prob_Online_1_given_Loan_0 = len(train_df[(train_df['Personal Loan'] == 0) & (train_df['Online'] == 1)].index)/len(train_df[(train_df['Personal Loan'] == 0)].index)\n",
    "print('P(Online = 1 | Loan = 0):', prob_Online_1_given_Loan_0)"
   ]
  },
  {
   "cell_type": "code",
   "execution_count": 102,
   "id": "8581357d-d247-4737-9bf2-a6f670c8d49f",
   "metadata": {},
   "outputs": [
    {
     "name": "stdout",
     "output_type": "stream",
     "text": [
      "P(Loan = 0): 0.9043333333333333\n"
     ]
    }
   ],
   "source": [
    "#P(Loan = 0)\n",
    "prob_Loan_0 = len(train_df[(train_df['Personal Loan'] == 0)].index)/len(train_df.index)\n",
    "print('P(Loan = 0):', prob_Loan_0)"
   ]
  },
  {
   "cell_type": "markdown",
   "id": "aeed6204-f657-4467-a00f-e073e15fc0d4",
   "metadata": {},
   "source": [
    "##### e. Using above quantities computed above to compute the naive Bayes probability P(Loan = 1 | CC = 1, Online = 1)."
   ]
  },
  {
   "cell_type": "code",
   "execution_count": 103,
   "id": "170b7582-c847-477f-9d62-d78a29e84c27",
   "metadata": {},
   "outputs": [
    {
     "name": "stdout",
     "output_type": "stream",
     "text": [
      "                                                               P(CC = 1 | Loan = 1) P(Online = 1 | Loan = 1) P(Loan = 1)\n",
      "P(Loan = 1 | CC = 1, Online = 1) = --------------------------------------------------------------------------------------------------------------------\n",
      "                                     P(CC = 1 | Loan = 1) P(Online = 1 | Loan = 1) P(Loan = 1) + P(CC = 1 | Loan = 0) P(Online = 1 | Loan = 0) P(Loan = 0)\n"
     ]
    }
   ],
   "source": [
    "print('                                                               P(CC = 1 | Loan = 1) P(Online = 1 | Loan = 1) P(Loan = 1)')\n",
    "print('P(Loan = 1 | CC = 1, Online = 1) = --------------------------------------------------------------------------------------------------------------------')\n",
    "print('                                     P(CC = 1 | Loan = 1) P(Online = 1 | Loan = 1) P(Loan = 1) + P(CC = 1 | Loan = 0) P(Online = 1 | Loan = 0) P(Loan = 0)')"
   ]
  },
  {
   "cell_type": "code",
   "execution_count": 104,
   "id": "554aaa6a-2f2f-4bca-ab50-ca45195ab610",
   "metadata": {},
   "outputs": [
    {
     "name": "stdout",
     "output_type": "stream",
     "text": [
      "P(Loan = 1 | CC = 1, Online = 1):  0.10200430617247218\n"
     ]
    }
   ],
   "source": [
    "numerator = (prob_CC_1_given_Loan_1 * prob_Online_1_given_Loan_1 * prob_Loan_1)\n",
    "denominator = (prob_CC_1_given_Loan_1 * prob_Online_1_given_Loan_1 * prob_Loan_1) + (prob_CC_1_given_Loan_0 * prob_Online_1_given_Loan_0 * prob_Loan_0)\n",
    "p_Loan_1_given_CC_1_Online_1 = numerator/denominator\n",
    "print('P(Loan = 1 | CC = 1, Online = 1): ', p_Loan_1_given_CC_1_Online_1)"
   ]
  },
  {
   "cell_type": "markdown",
   "id": "cd839814-dbfe-4b61-b274-211f46ec6332",
   "metadata": {},
   "source": [
    "##### f. Compare this value with the one obtained from the pivot table in (b). Which is a more accurate estimate?"
   ]
  },
  {
   "cell_type": "markdown",
   "id": "b0fbabe6-d9cc-4aff-b844-7b5aa890d94f",
   "metadata": {},
   "source": [
    "The one we obtained from the pivot table in (b) is more accurate. This is because naive bayes is based on the assumption that features are independent of each other, given the class label. Since we do not know how independent features are, we will consider naive bayes estimate as less accurate than the value we obtained from the pivot table in (b)."
   ]
  },
  {
   "cell_type": "markdown",
   "id": "490f9b26-b746-4e6d-8d78-99e05914bfb6",
   "metadata": {},
   "source": [
    "##### g. Which of the entries in this table are needed for computing P(Loan = 1 | CC = 1, Online = 1)? In Python, run naive Bayes on the data. Examine the model output on training data, and find the entry that corresponds to P(Loan = 1 | CC = 1, Online = 1). Compare this to the number you obtained in (e)."
   ]
  },
  {
   "cell_type": "markdown",
   "id": "30aead71-8177-4da5-8355-93ede43588c1",
   "metadata": {},
   "source": [
    "In above three pivot tables, we will need following entries for computing P(Loan = 1 | CC = 1, Online = 1). Other values will have to be calculated separately.\n",
    "\n",
    "    i. Third Table, value in second row and second column\n",
    "    ii. Second Table, value in second row and second column \n",
    "    iii. Third Table, value in first row and second column \n",
    "    iv. Second Table, value in first row and second column "
   ]
  },
  {
   "cell_type": "code",
   "execution_count": 105,
   "id": "6f97c9da-8faf-46bb-9f80-66c13bd28edd",
   "metadata": {},
   "outputs": [],
   "source": [
    "X = pd.get_dummies(df[['CreditCard', 'Online']])\n",
    "y = df['Personal Loan']\n",
    "classes = list(y.cat.categories)"
   ]
  },
  {
   "cell_type": "markdown",
   "id": "fd226b38-8a44-4baa-a1ac-ace13364a412",
   "metadata": {},
   "source": [
    "Splitting dataset into training and test sets"
   ]
  },
  {
   "cell_type": "code",
   "execution_count": 106,
   "id": "bc9e9eb0-b4e3-49ef-afbe-7504ba666b20",
   "metadata": {},
   "outputs": [],
   "source": [
    "X_train, X_valid, y_train, y_valid = train_test_split(X, y, test_size=0.40, random_state=1)"
   ]
  },
  {
   "cell_type": "markdown",
   "id": "c4c6ab63-89d4-4d1c-8b06-334edb1b30fa",
   "metadata": {},
   "source": [
    "Running naive Bayes "
   ]
  },
  {
   "cell_type": "code",
   "execution_count": 107,
   "id": "1b5ff5d2-0ce4-4b4f-b84f-b983279df6e1",
   "metadata": {},
   "outputs": [
    {
     "data": {
      "text/html": [
       "<style>#sk-container-id-3 {color: black;background-color: white;}#sk-container-id-3 pre{padding: 0;}#sk-container-id-3 div.sk-toggleable {background-color: white;}#sk-container-id-3 label.sk-toggleable__label {cursor: pointer;display: block;width: 100%;margin-bottom: 0;padding: 0.3em;box-sizing: border-box;text-align: center;}#sk-container-id-3 label.sk-toggleable__label-arrow:before {content: \"▸\";float: left;margin-right: 0.25em;color: #696969;}#sk-container-id-3 label.sk-toggleable__label-arrow:hover:before {color: black;}#sk-container-id-3 div.sk-estimator:hover label.sk-toggleable__label-arrow:before {color: black;}#sk-container-id-3 div.sk-toggleable__content {max-height: 0;max-width: 0;overflow: hidden;text-align: left;background-color: #f0f8ff;}#sk-container-id-3 div.sk-toggleable__content pre {margin: 0.2em;color: black;border-radius: 0.25em;background-color: #f0f8ff;}#sk-container-id-3 input.sk-toggleable__control:checked~div.sk-toggleable__content {max-height: 200px;max-width: 100%;overflow: auto;}#sk-container-id-3 input.sk-toggleable__control:checked~label.sk-toggleable__label-arrow:before {content: \"▾\";}#sk-container-id-3 div.sk-estimator input.sk-toggleable__control:checked~label.sk-toggleable__label {background-color: #d4ebff;}#sk-container-id-3 div.sk-label input.sk-toggleable__control:checked~label.sk-toggleable__label {background-color: #d4ebff;}#sk-container-id-3 input.sk-hidden--visually {border: 0;clip: rect(1px 1px 1px 1px);clip: rect(1px, 1px, 1px, 1px);height: 1px;margin: -1px;overflow: hidden;padding: 0;position: absolute;width: 1px;}#sk-container-id-3 div.sk-estimator {font-family: monospace;background-color: #f0f8ff;border: 1px dotted black;border-radius: 0.25em;box-sizing: border-box;margin-bottom: 0.5em;}#sk-container-id-3 div.sk-estimator:hover {background-color: #d4ebff;}#sk-container-id-3 div.sk-parallel-item::after {content: \"\";width: 100%;border-bottom: 1px solid gray;flex-grow: 1;}#sk-container-id-3 div.sk-label:hover label.sk-toggleable__label {background-color: #d4ebff;}#sk-container-id-3 div.sk-serial::before {content: \"\";position: absolute;border-left: 1px solid gray;box-sizing: border-box;top: 0;bottom: 0;left: 50%;z-index: 0;}#sk-container-id-3 div.sk-serial {display: flex;flex-direction: column;align-items: center;background-color: white;padding-right: 0.2em;padding-left: 0.2em;position: relative;}#sk-container-id-3 div.sk-item {position: relative;z-index: 1;}#sk-container-id-3 div.sk-parallel {display: flex;align-items: stretch;justify-content: center;background-color: white;position: relative;}#sk-container-id-3 div.sk-item::before, #sk-container-id-3 div.sk-parallel-item::before {content: \"\";position: absolute;border-left: 1px solid gray;box-sizing: border-box;top: 0;bottom: 0;left: 50%;z-index: -1;}#sk-container-id-3 div.sk-parallel-item {display: flex;flex-direction: column;z-index: 1;position: relative;background-color: white;}#sk-container-id-3 div.sk-parallel-item:first-child::after {align-self: flex-end;width: 50%;}#sk-container-id-3 div.sk-parallel-item:last-child::after {align-self: flex-start;width: 50%;}#sk-container-id-3 div.sk-parallel-item:only-child::after {width: 0;}#sk-container-id-3 div.sk-dashed-wrapped {border: 1px dashed gray;margin: 0 0.4em 0.5em 0.4em;box-sizing: border-box;padding-bottom: 0.4em;background-color: white;}#sk-container-id-3 div.sk-label label {font-family: monospace;font-weight: bold;display: inline-block;line-height: 1.2em;}#sk-container-id-3 div.sk-label-container {text-align: center;}#sk-container-id-3 div.sk-container {/* jupyter's `normalize.less` sets `[hidden] { display: none; }` but bootstrap.min.css set `[hidden] { display: none !important; }` so we also need the `!important` here to be able to override the default hidden behavior on the sphinx rendered scikit-learn.org. See: https://github.com/scikit-learn/scikit-learn/issues/21755 */display: inline-block !important;position: relative;}#sk-container-id-3 div.sk-text-repr-fallback {display: none;}</style><div id=\"sk-container-id-3\" class=\"sk-top-container\"><div class=\"sk-text-repr-fallback\"><pre>MultinomialNB(alpha=0.01)</pre><b>In a Jupyter environment, please rerun this cell to show the HTML representation or trust the notebook. <br />On GitHub, the HTML representation is unable to render, please try loading this page with nbviewer.org.</b></div><div class=\"sk-container\" hidden><div class=\"sk-item\"><div class=\"sk-estimator sk-toggleable\"><input class=\"sk-toggleable__control sk-hidden--visually\" id=\"sk-estimator-id-3\" type=\"checkbox\" checked><label for=\"sk-estimator-id-3\" class=\"sk-toggleable__label sk-toggleable__label-arrow\">MultinomialNB</label><div class=\"sk-toggleable__content\"><pre>MultinomialNB(alpha=0.01)</pre></div></div></div></div></div>"
      ],
      "text/plain": [
       "MultinomialNB(alpha=0.01)"
      ]
     },
     "execution_count": 107,
     "metadata": {},
     "output_type": "execute_result"
    }
   ],
   "source": [
    "nb = MultinomialNB(alpha=0.01)\n",
    "nb.fit(X_train, y_train)"
   ]
  },
  {
   "cell_type": "markdown",
   "id": "9daf336a-1ec2-4410-b80a-c7b3b36387d1",
   "metadata": {},
   "source": [
    "Predicting probabilities "
   ]
  },
  {
   "cell_type": "code",
   "execution_count": 108,
   "id": "ee5bdd03-1b31-440a-b303-1d0ea2954e62",
   "metadata": {},
   "outputs": [],
   "source": [
    "predProb_train = nb.predict_proba(X_train)"
   ]
  },
  {
   "cell_type": "markdown",
   "id": "40b0e081-bb71-4ad8-8a04-1dc1ff280bbe",
   "metadata": {},
   "source": [
    "Predicting class membership"
   ]
  },
  {
   "cell_type": "code",
   "execution_count": 109,
   "id": "a8c21f9a-9ea5-45fa-a108-5f0bfa736d2a",
   "metadata": {},
   "outputs": [],
   "source": [
    "y_train_pred = nb.predict(X_train)"
   ]
  },
  {
   "cell_type": "code",
   "execution_count": 110,
   "id": "bd637400-af59-479b-a499-12fbc4890e08",
   "metadata": {},
   "outputs": [
    {
     "data": {
      "text/html": [
       "<div>\n",
       "<style scoped>\n",
       "    .dataframe tbody tr th:only-of-type {\n",
       "        vertical-align: middle;\n",
       "    }\n",
       "\n",
       "    .dataframe tbody tr th {\n",
       "        vertical-align: top;\n",
       "    }\n",
       "\n",
       "    .dataframe thead th {\n",
       "        text-align: right;\n",
       "    }\n",
       "</style>\n",
       "<table border=\"1\" class=\"dataframe\">\n",
       "  <thead>\n",
       "    <tr style=\"text-align: right;\">\n",
       "      <th></th>\n",
       "      <th>actual</th>\n",
       "      <th>predicted</th>\n",
       "      <th>0</th>\n",
       "      <th>1</th>\n",
       "    </tr>\n",
       "  </thead>\n",
       "  <tbody>\n",
       "    <tr>\n",
       "      <th>2313</th>\n",
       "      <td>0</td>\n",
       "      <td>0</td>\n",
       "      <td>0.897993</td>\n",
       "      <td>0.102007</td>\n",
       "    </tr>\n",
       "  </tbody>\n",
       "</table>\n",
       "</div>"
      ],
      "text/plain": [
       "     actual  predicted         0         1\n",
       "2313      0          0  0.897993  0.102007"
      ]
     },
     "execution_count": 110,
     "metadata": {},
     "output_type": "execute_result"
    }
   ],
   "source": [
    "# classify a specific customer by searching in the dataset\n",
    "# for a customer with the same predictor values\n",
    "temp_df = pd.concat([pd.DataFrame({'actual': y_train, 'predicted': y_train_pred}),\n",
    "    pd.DataFrame(predProb_train, index=y_train.index)], axis=1)\n",
    " \n",
    "\n",
    "mask = ((X_train.CreditCard_1 == 1) & (X_train.Online_1 == 1))\n",
    "        \n",
    "temp_df[mask].head(1)"
   ]
  }
 ],
 "metadata": {
  "kernelspec": {
   "display_name": "Python 3 (ipykernel)",
   "language": "python",
   "name": "python3"
  },
  "language_info": {
   "codemirror_mode": {
    "name": "ipython",
    "version": 3
   },
   "file_extension": ".py",
   "mimetype": "text/x-python",
   "name": "python",
   "nbconvert_exporter": "python",
   "pygments_lexer": "ipython3",
   "version": "3.10.9"
  }
 },
 "nbformat": 4,
 "nbformat_minor": 5
}
